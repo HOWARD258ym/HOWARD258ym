{
  "nbformat": 4,
  "nbformat_minor": 0,
  "metadata": {
    "colab": {
      "provenance": [],
      "include_colab_link": true
    },
    "kernelspec": {
      "name": "python3",
      "display_name": "Python 3"
    },
    "gpuClass": "standard",
    "accelerator": "GPU"
  },
  "cells": [
    {
      "cell_type": "markdown",
      "metadata": {
        "id": "view-in-github",
        "colab_type": "text"
      },
      "source": [
        "<a href=\"https://colab.research.google.com/github/HOWARD258ym/HOWARD258ym/blob/main/%E3%80%8CTransfer_Learning_in_CNN_PyTorch_Class_gender_classification_example_ipynb%E3%80%8D%E7%9A%84%E5%89%AF%E6%9C%AC.ipynb\" target=\"_parent\"><img src=\"https://colab.research.google.com/assets/colab-badge.svg\" alt=\"Open In Colab\"/></a>"
      ]
    },
    {
      "cell_type": "markdown",
      "metadata": {
        "id": "Y2TnpdCDuDnT"
      },
      "source": [
        "**Initial step:** \n",
        "\n",
        "download the gender classification images from the following link:\n",
        "\n",
        "https://tinyurl.com/yxpyltdv\n",
        "\n",
        "Before using DCGAN to generate male and female images, the statistics is as follows:\n",
        "\n",
        "train/male: 1000 imgs\n",
        "\n",
        "train/female: 1000 imgs\n",
        "\n",
        "val/male: 200 imgs\n",
        "\n",
        "val/famale: 200 imgs\n",
        "\n",
        "mount data to this ipynb!"
      ]
    },
    {
      "cell_type": "markdown",
      "source": [
        "@inproceedings{liu2015faceattributes,\n",
        "  title = {Deep Learning Face Attributes in the Wild},\n",
        "  author = {Liu, Ziwei and Luo, Ping and Wang, Xiaogang and Tang, Xiaoou},\n",
        "  booktitle = {Proceedings of International Conference on Computer Vision (ICCV)},\n",
        "  month = {December},\n",
        "  year = {2015} \n",
        "}"
      ],
      "metadata": {
        "id": "XKsDdcCP9Xxj"
      }
    },
    {
      "cell_type": "markdown",
      "source": [
        "# Import dependencies"
      ],
      "metadata": {
        "id": "PQXKBn7thn0T"
      }
    },
    {
      "cell_type": "code",
      "metadata": {
        "id": "09fk3N3Gn1Pl",
        "colab": {
          "base_uri": "https://localhost:8080/"
        },
        "outputId": "704ab2d2-7d68-471c-f1a6-f1b88a37bf22"
      },
      "source": [
        "from google.colab import drive\n",
        "drive.mount('/content/drive')"
      ],
      "execution_count": 35,
      "outputs": [
        {
          "output_type": "stream",
          "name": "stdout",
          "text": [
            "Drive already mounted at /content/drive; to attempt to forcibly remount, call drive.mount(\"/content/drive\", force_remount=True).\n"
          ]
        }
      ]
    },
    {
      "cell_type": "code",
      "metadata": {
        "id": "KJihfaYeoG8m",
        "colab": {
          "base_uri": "https://localhost:8080/"
        },
        "outputId": "9a56eecd-6b6b-4c42-cfb5-a04752b06dfa"
      },
      "source": [
        "# mount Google drive correctly\n",
        "!ls /content/drive/MyDrive/TIBAME/male_female_images_mixed\n",
        "%cd \"/content/drive/MyDrive/TIBAME/male_female_images_mixed/\"\n",
        "\n",
        "!ls"
      ],
      "execution_count": 36,
      "outputs": [
        {
          "output_type": "stream",
          "name": "stdout",
          "text": [
            "train  val\n",
            "/content/drive/MyDrive/TIBAME/male_female_images_mixed\n",
            "train  val\n"
          ]
        }
      ]
    },
    {
      "cell_type": "code",
      "metadata": {
        "id": "NCmzcH9siOTH",
        "colab": {
          "base_uri": "https://localhost:8080/"
        },
        "outputId": "0535c413-a97c-4425-de0b-60d88c9cc771"
      },
      "source": [
        "from __future__ import print_function, division\n",
        "\n",
        "import torch\n",
        "import torch.nn as nn\n",
        "from torch.nn import functional as F\n",
        "import torch.optim as optim\n",
        "from torch.hub import load_state_dict_from_url\n",
        "print(\"torch version:\",torch.__version__)\n",
        "\n",
        "from torch.optim import lr_scheduler\n",
        "\n",
        "import numpy as np\n",
        "\n",
        "import torchvision\n",
        "from torchvision import datasets, models, transforms\n",
        "print(\"torchvision version:\", torchvision.__version__)\n",
        "\n",
        "import matplotlib.pyplot as plt\n",
        "from matplotlib.pyplot import MultipleLocator\n",
        "# set Scale interval\n",
        "%matplotlib inline\n",
        "#plt.show() # with %matplotlib inline, no need for plt.show()\n",
        "\n",
        "import time\n",
        "import os\n",
        "import copy\n",
        "import cv2\n",
        "\n",
        "import numpy as np\n",
        "\n",
        "from PIL import Image\n",
        "\n",
        "from google.colab.patches import cv2_imshow\n",
        "\n",
        "plt.ion()   # interactive mode"
      ],
      "execution_count": 37,
      "outputs": [
        {
          "output_type": "stream",
          "name": "stdout",
          "text": [
            "torch version: 1.13.1+cu116\n",
            "torchvision version: 0.14.1+cu116\n"
          ]
        }
      ]
    },
    {
      "cell_type": "code",
      "source": [
        "__all__ = ['ResNet', 'resnet18', 'resnet34', 'resnet50', 'resnet101',\n",
        "           'resnet152', 'resnext50_32x4d', 'resnext101_32x8d',\n",
        "           'wide_resnet50_2', 'wide_resnet101_2']\n",
        "\n",
        "\n",
        "model_urls = {\n",
        "    'resnet18': 'https://download.pytorch.org/models/resnet18-5c106cde.pth',\n",
        "    'resnet34': 'https://download.pytorch.org/models/resnet34-333f7ec4.pth',\n",
        "    'resnet50': 'https://download.pytorch.org/models/resnet50-19c8e357.pth',\n",
        "    'resnet101': 'https://download.pytorch.org/models/resnet101-5d3b4d8f.pth',\n",
        "    'resnet152': 'https://download.pytorch.org/models/resnet152-b121ed2d.pth',\n",
        "    'resnext50_32x4d': 'https://download.pytorch.org/models/resnext50_32x4d-7cdf4587.pth',\n",
        "    'resnext101_32x8d': 'https://download.pytorch.org/models/resnext101_32x8d-8ba56ff5.pth',\n",
        "    'wide_resnet50_2': 'https://download.pytorch.org/models/wide_resnet50_2-95faca4d.pth',\n",
        "    'wide_resnet101_2': 'https://download.pytorch.org/models/wide_resnet101_2-32ee1156.pth',\n",
        "}"
      ],
      "metadata": {
        "id": "txzUSFJBcNpc"
      },
      "execution_count": 38,
      "outputs": []
    },
    {
      "cell_type": "markdown",
      "source": [
        "#Create PyTorch data generators"
      ],
      "metadata": {
        "id": "mvm-RG_DiALg"
      }
    },
    {
      "cell_type": "code",
      "metadata": {
        "id": "RTZrF2PdjPcU",
        "colab": {
          "base_uri": "https://localhost:8080/"
        },
        "outputId": "2a018283-4762-4e30-e941-77035e8a2094"
      },
      "source": [
        "## try to adjust data augmentation strategy \n",
        "\n",
        "data_transforms = {\n",
        "    'train': transforms.Compose([\n",
        "        transforms.RandomResizedCrop(224, scale=(0.8, 1.0)), # adjust (size , scale , ratio) >>> here set size(224,224) pixel, scale(length & width) randomly from (0.8 ~ 1)\n",
        "        transforms.RandomHorizontalFlip(p=0.7), # p : prob.\n",
        "        transforms.RandomVerticalFlip(p=0.7),\n",
        "        transforms.ToTensor(), # adjust grayscale range to (0-1)\n",
        "        transforms.Normalize([0.485, 0.456, 0.406], [0.229, 0.224, 0.225]) # adjust grayscale range in control [mean],[std] \n",
        "    ]),\n",
        "    'val': transforms.Compose([\n",
        "        transforms.Resize(256),\n",
        "        transforms.CenterCrop(224), # CenterCrop( size=(200,200) ) reserve (200,200)pixels from center   \n",
        "        transforms.ToTensor(),\n",
        "        transforms.Normalize([0.485, 0.456, 0.406], [0.229, 0.224, 0.225])\n",
        "    ]),\n",
        "}\n",
        "\n",
        "# the directory of your data in Google Drive\n",
        "# do remind that before executing DCGAN male/female face generation example, there are only 1000 images in the train/male and train/female, respectively.\n",
        "# '/content/drive/My Drive/male_female_images_mixed/train/female’\n",
        "# '/content/drive/My Drive/male_female_images_mixed/train/male’\n",
        "data_dir = '/content/drive/MyDrive/TIBAME/male_female_images_mixed/'\n",
        "\n",
        "\n",
        "image_datasets = {x: datasets.ImageFolder(os.path.join(data_dir, x), data_transforms[x]) for x in ['train', 'val']}\n",
        "dataloaders = {x: torch.utils.data.DataLoader(image_datasets[x], batch_size=4, shuffle=True, num_workers=4) for x in ['train', 'val']}\n",
        "dataset_sizes = {x: len(image_datasets[x]) for x in ['train', 'val']}\n",
        "\n",
        "class_names = image_datasets['train'].classes\n",
        "\n",
        "dataloaders = {x: torch.utils.data.DataLoader(image_datasets[x], batch_size=4, shuffle=True, num_workers=4) for x in ['train', 'val']}\n"
      ],
      "execution_count": 39,
      "outputs": [
        {
          "output_type": "stream",
          "name": "stderr",
          "text": [
            "/usr/local/lib/python3.8/dist-packages/torch/utils/data/dataloader.py:554: UserWarning: This DataLoader will create 4 worker processes in total. Our suggested max number of worker in current system is 2, which is smaller than what this DataLoader is going to create. Please be aware that excessive worker creation might get DataLoader running slow or even freeze, lower the worker number to avoid potential slowness/freeze if necessary.\n",
            "  warnings.warn(_create_warning_msg(\n"
          ]
        }
      ]
    },
    {
      "cell_type": "code",
      "source": [
        "#print(torch.cuda.is_available())\n",
        "device = torch.device(\"cuda:0\" if torch.cuda.is_available() else \"cpu\")\n",
        "device"
      ],
      "metadata": {
        "colab": {
          "base_uri": "https://localhost:8080/"
        },
        "id": "eTAQEkQihDyw",
        "outputId": "b12bf78a-c516-444e-c9d1-fad17514bd8f"
      },
      "execution_count": 40,
      "outputs": [
        {
          "output_type": "execute_result",
          "data": {
            "text/plain": [
              "device(type='cuda', index=0)"
            ]
          },
          "metadata": {},
          "execution_count": 40
        }
      ]
    },
    {
      "cell_type": "markdown",
      "metadata": {
        "id": "69P-kXNr46dQ"
      },
      "source": [
        "show some training data. Make sure the lables match the images"
      ]
    },
    {
      "cell_type": "code",
      "metadata": {
        "id": "QxL65Tiole9n",
        "colab": {
          "base_uri": "https://localhost:8080/",
          "height": 148
        },
        "outputId": "27abd728-2730-41a0-c55b-1c90e22b132c"
      },
      "source": [
        "def imshow(inp, title=None):\n",
        "    \"\"\"Imshow for Tensor.\"\"\"\n",
        "    inp = inp.numpy().transpose((1, 2, 0))\n",
        "    mean = np.array([0.485, 0.456, 0.406])\n",
        "    std = np.array([0.229, 0.224, 0.225])\n",
        "    inp = std * inp + mean\n",
        "    inp = np.clip(inp, 0, 1)\n",
        "    \n",
        "    # if opencv is desired\n",
        "    #new_img_rgb = cv2.cvtColor(np.uint8(inp*256), cv2.COLOR_BGR2RGB)\n",
        "    #print(title)    \n",
        "    #cv2_imshow(new_img_rgb)\n",
        "\n",
        "    plt.imshow(inp)\n",
        "    if title is not None:\n",
        "        plt.title(title)\n",
        "    plt.pause(0.001)  # pause a bit so that plots are updated\n",
        "\n",
        "\n",
        "# Get a batch of training data\n",
        "inputs, classes = next(iter(dataloaders['train']))\n",
        "\n",
        "\n",
        "# Make a grid from batch\n",
        "out = torchvision.utils.make_grid(inputs)\n",
        "\n",
        "imshow(out, title=[class_names[x] for x in classes])"
      ],
      "execution_count": 41,
      "outputs": [
        {
          "output_type": "display_data",
          "data": {
            "text/plain": [
              "<Figure size 432x288 with 1 Axes>"
            ],
            "image/png": "[encoded data removed]"
          },
          "metadata": {
            "needs_background": "light"
          }
        }
      ]
    },
    {
      "cell_type": "markdown",
      "source": [
        "#Train the model"
      ],
      "metadata": {
        "id": "ztbd3qHIjY3H"
      }
    },
    {
      "cell_type": "markdown",
      "metadata": {
        "id": "pJkOaVv9lwJa"
      },
      "source": [
        "Training the model,including:\n",
        "\n",
        "Scheduling learning rate,LR scheduler,\n",
        "\n",
        "Saving the best model"
      ]
    },
    {
      "cell_type": "code",
      "metadata": {
        "id": "Z6RZDPY6lxoS"
      },
      "source": [
        "NUM=14\n",
        "num_epochs=NUM\n",
        "epoch_train_loss_his = np.zeros(num_epochs)\n",
        "epoch_val_loss_his = np.zeros(num_epochs)\n",
        "epoch_train_acc_his = np.zeros(num_epochs)\n",
        "epoch_val_acc_his = np.zeros(num_epochs)\n",
        "\n",
        "#def train_model(model, criterion, optimizer, scheduler, num_epochs=NUM):\n",
        "# for resnet50\n",
        "def train_model(model, criterion, optimizer, num_epochs=NUM):\n",
        "    since = time.time()\n",
        "\n",
        "    best_model_wts = copy.deepcopy(model.state_dict())\n",
        "    best_acc = 0.0\n",
        "\n",
        "    for epoch in range(num_epochs):\n",
        "        print('Epoch {}/{}'.format(epoch, num_epochs - 1))\n",
        "        print('-' * 10)\n",
        "\n",
        "        # Each epoch has a training and validation phase\n",
        "        for phase in ['train', 'val']:\n",
        "            if phase == 'train':\n",
        "                model.train()  # Set model to training mode\n",
        "            else:\n",
        "                model.eval()   # Set model to evaluate mode\n",
        "\n",
        "            running_loss = 0.0\n",
        "            running_corrects = 0\n",
        "\n",
        "            # Iterate over data.\n",
        "            for inputs, labels in dataloaders[phase]:\n",
        "                inputs = inputs.to(device)\n",
        "                labels = labels.to(device)\n",
        "\n",
        "                # zero the parameter gradients\n",
        "                optimizer.zero_grad()\n",
        "\n",
        "                # forward\n",
        "                # track history if only in train\n",
        "                with torch.set_grad_enabled(phase == 'train'):\n",
        "                    outputs = model(inputs)\n",
        "                    _, preds = torch.max(outputs, 1)\n",
        "                    loss = criterion(outputs, labels)\n",
        "\n",
        "                    # backward + optimize only if in training phase\n",
        "                    if phase == 'train':\n",
        "                        loss.backward()\n",
        "                        optimizer.step()\n",
        "\n",
        "                # statistics\n",
        "                running_loss += loss.item() * inputs.size(0)                            \n",
        "                running_corrects += torch.sum(preds == labels.data)\n",
        "            # ---------------------------------------------------------------\n",
        "            # cal. epoch_loss & epoch_acc \n",
        "            epoch_loss = running_loss / dataset_sizes[phase]\n",
        "            epoch_acc = running_corrects.double() / dataset_sizes[phase]\n",
        "            \n",
        "            print( phase )\n",
        "            # list the 'train' & 'val' loss & acc\n",
        "            print('{} Loss: {:.4f} Acc: {:.4f}'.format(\n",
        "                phase, epoch_loss, epoch_acc))\n",
        "\n",
        "            # deep copy the model\n",
        "            if phase == 'val' and epoch_acc > best_acc:\n",
        "                best_acc = epoch_acc\n",
        "                best_model_wts = copy.deepcopy(model.state_dict())\n",
        "\n",
        "            # save my his. record \n",
        "            #for phase in ['train', 'val']:\n",
        "            if phase == 'train':                \n",
        "              epoch_train_loss_his[epoch] = epoch_loss\n",
        "              epoch_train_acc_his[epoch] = epoch_acc\n",
        "              print('CHECK if train:',phase)\n",
        "            else:\n",
        "              epoch_val_loss_his[epoch] = epoch_loss\n",
        "              epoch_val_acc_his[epoch] = epoch_acc\n",
        "              print('CHECK if val:',phase)\n",
        "\n",
        "        print()\n",
        "            \n",
        "    time_elapsed = time.time() - since\n",
        "    print('Training complete in {:.0f}m {:.0f}s'.format(\n",
        "        time_elapsed // 60, time_elapsed % 60))\n",
        "    print('Best val Acc: {:4f}'.format(best_acc))\n",
        "\n",
        "    # load best model weights\n",
        "    model.load_state_dict(best_model_wts)\n",
        "    return model\n",
        "    "
      ],
      "execution_count": 42,
      "outputs": []
    },
    {
      "cell_type": "code",
      "source": [
        "# check if anything's wrong above\n",
        "#input(\"Please press the Enter key to proceed\")\n",
        "#check shape of epoch_train_loss_his & epoch_val_loss_his & epoch_train_acc_his & epoch_val_acc_his\n",
        "#print(epoch_train_loss_his)"
      ],
      "metadata": {
        "id": "soFQAqWzsOKz"
      },
      "execution_count": 43,
      "outputs": []
    },
    {
      "cell_type": "markdown",
      "source": [
        "# Create the network"
      ],
      "metadata": {
        "id": "DyiCCT9_khBA"
      }
    },
    {
      "cell_type": "markdown",
      "metadata": {
        "id": "nQt3IXA0_cRT"
      },
      "source": [
        "**Case 1:\n",
        "using ConvNet as fixed feature extractor\n",
        "Here, we need to freeze all the network except the final layer. \n",
        "Set requires_grad == False to freeze the parameters \n",
        "so that the gradients are not computed in backward().**"
      ]
    },
    {
      "cell_type": "markdown",
      "source": [
        "#CASE 1 : USE **alexnet**"
      ],
      "metadata": {
        "id": "WFE8GetGzKGV"
      }
    },
    {
      "cell_type": "code",
      "source": [
        "'''\n",
        "# do \"feature extractor\" , using ( pretrained alexnet )\n",
        "\n",
        "model_conv = models.alexnet(pretrained=True)\n",
        "\n",
        "for param in model_conv.parameters():\n",
        "    param.requires_grad = False # param.requires_grad = False ------ represent conv. no operate !!\n",
        "# Parameters of newly constructed modules have requires_grad=True by default\n",
        "\n",
        "model_conv.classifier = nn.Sequential(*[model_conv.classifier[i] for i in range(6)]) # remove the last layer i = 7 (4096x1000)\n",
        "addition_fc = nn.Linear(4096, 2) # the layer to be stacked\n",
        "model_conv.classifier = nn.Sequential(model_conv.classifier,addition_fc)\n",
        "\n",
        "model_conv = model_conv.to(device)\n",
        "\n",
        "criterion = nn.CrossEntropyLoss()\n",
        "\n",
        "# Observe that only parameters of final layer are being optimized as\n",
        "# opposed to before.\n",
        "optimizer_conv = optim.SGD(model_conv.parameters(), lr=0.001, momentum=0.9)\n",
        "\n",
        "# Decay LR by a factor of 0.1 every 5 epochs\n",
        "exp_lr_scheduler = lr_scheduler.StepLR(optimizer_conv, step_size=5, gamma=0.1)\n",
        "\n",
        "# train the model with feature extractor way\n",
        "model_conv = train_model(model_conv, criterion, optimizer_conv,\n",
        "                         exp_lr_scheduler, num_epochs=NUM)\n",
        "'''\n"
      ],
      "metadata": {
        "id": "Ybx2oyfMHz7I",
        "colab": {
          "base_uri": "https://localhost:8080/",
          "height": 156
        },
        "outputId": "d35b5b98-7095-4869-ce03-8e7c890278d1"
      },
      "execution_count": 44,
      "outputs": [
        {
          "output_type": "execute_result",
          "data": {
            "text/plain": [
              "'\\n# do \"feature extractor\" , using ( pretrained alexnet )\\n\\nmodel_conv = models.alexnet(pretrained=True)\\n\\nfor param in model_conv.parameters():\\n    param.requires_grad = False # param.requires_grad = False ------ represent conv. no operate !!\\n# Parameters of newly constructed modules have requires_grad=True by default\\n\\nmodel_conv.classifier = nn.Sequential(*[model_conv.classifier[i] for i in range(6)]) # remove the last layer i = 7 (4096x1000)\\naddition_fc = nn.Linear(4096, 2) # the layer to be stacked\\nmodel_conv.classifier = nn.Sequential(model_conv.classifier,addition_fc)\\n\\nmodel_conv = model_conv.to(device)\\n\\ncriterion = nn.CrossEntropyLoss()\\n\\n# Observe that only parameters of final layer are being optimized as\\n# opposed to before.\\noptimizer_conv = optim.SGD(model_conv.parameters(), lr=0.001, momentum=0.9)\\n\\n# Decay LR by a factor of 0.1 every 5 epochs\\nexp_lr_scheduler = lr_scheduler.StepLR(optimizer_conv, step_size=5, gamma=0.1)\\n\\n# train the model with feature extractor way\\nmodel_conv = train_model(model_conv, criterion, optimizer_conv,\\n                         exp_lr_scheduler, num_epochs=NUM)\\n'"
            ],
            "application/vnd.google.colaboratory.intrinsic+json": {
              "type": "string"
            }
          },
          "metadata": {},
          "execution_count": 44
        }
      ]
    },
    {
      "cell_type": "markdown",
      "source": [
        "#CASE 1 : USE **ResNet50**"
      ],
      "metadata": {
        "id": "QLcn8GSVXeP8"
      }
    },
    {
      "cell_type": "code",
      "source": [
        "# do \"feature extractor\" , using ( pretrained ResNet50 )\n",
        "'''\n",
        "### resnet50 MODEL %%%%%%%%%%%%%%%%%%%%%%%%%%%%%%%%%%%%%%%%%%%%%%%%%%%%%%%%%%%\n",
        "model_conv = models.resnet50(pretrained=True).to(device)\n",
        "\n",
        "for param in model_conv.parameters():\n",
        "    param.requires_grad = False # param.requires_grad = False ------ represent conv. no operate !!\n",
        "# Parameters of newly constructed modules have requires_grad=True by default\n",
        "\n",
        "print(model_conv)\n",
        "\n",
        "# modify the last fc,transfer to few layers(2048*1000＞＞＞２０４８＊２)\n",
        "model_conv.fc = nn.Sequential(\n",
        "               nn.Linear(2048, 128),\n",
        "               nn.ReLU(inplace=True),\n",
        "               nn.Linear(128, 2)).to(device)\n",
        "\n",
        "#(fc): Sequential(\n",
        "#    (0): Linear(in_features=2048, out_features=128, bias=True)\n",
        "#    (1): ReLU(inplace=True)\n",
        "#    (2): Linear(in_features=128, out_features=2, bias=True)  \n",
        "\n",
        "print(model_conv)\n",
        "\n",
        "criterion = nn.CrossEntropyLoss()\n",
        "optimizer_conv = optim.Adam(model_conv.fc.parameters())\n",
        "\n",
        "model_conv = train_model(model_conv, criterion, optimizer_conv, num_epochs=NUM)\n",
        "'''"
      ],
      "metadata": {
        "colab": {
          "base_uri": "https://localhost:8080/",
          "height": 156
        },
        "id": "CEsj3qxfXIZV",
        "outputId": "0741dc3b-a89b-45e9-9044-8c47c760b692"
      },
      "execution_count": 45,
      "outputs": [
        {
          "output_type": "execute_result",
          "data": {
            "text/plain": [
              "'\\n### resnet50 MODEL %%%%%%%%%%%%%%%%%%%%%%%%%%%%%%%%%%%%%%%%%%%%%%%%%%%%%%%%%%%\\nmodel_conv = models.resnet50(pretrained=True).to(device)\\n\\nfor param in model_conv.parameters():\\n    param.requires_grad = False # param.requires_grad = False ------ represent conv. no operate !!\\n# Parameters of newly constructed modules have requires_grad=True by default\\n\\nprint(model_conv)\\n\\n# modify the last fc,transfer to few layers(2048*1000＞＞＞２０４８＊２)\\nmodel_conv.fc = nn.Sequential(\\n               nn.Linear(2048, 128),\\n               nn.ReLU(inplace=True),\\n               nn.Linear(128, 2)).to(device)\\n\\n#(fc): Sequential(\\n#    (0): Linear(in_features=2048, out_features=128, bias=True)\\n#    (1): ReLU(inplace=True)\\n#    (2): Linear(in_features=128, out_features=2, bias=True)  \\n\\nprint(model_conv)\\n\\ncriterion = nn.CrossEntropyLoss()\\noptimizer_conv = optim.Adam(model_conv.fc.parameters())\\n\\nmodel_conv = train_model(model_conv, criterion, optimizer_conv, num_epochs=NUM)\\n'"
            ],
            "application/vnd.google.colaboratory.intrinsic+json": {
              "type": "string"
            }
          },
          "metadata": {},
          "execution_count": 45
        }
      ]
    },
    {
      "cell_type": "markdown",
      "source": [
        "# **Case 2:**\n",
        "Finetuning the convnet, Load a pretrained model and reset final fully connected layer.**"
      ],
      "metadata": {
        "id": "aSaxrY6L84CW"
      }
    },
    {
      "cell_type": "markdown",
      "source": [
        "#CASE 2 : USE **alexnet**"
      ],
      "metadata": {
        "id": "AiRPlUFO9RB6"
      }
    },
    {
      "cell_type": "code",
      "source": [
        "'''\n",
        "## Alexnet\n",
        " \n",
        "# change models.alexnet(pretrained=false) >>> use default() ------ train Alexnet from scratch!!\n",
        "model_ft = models.alexnet(pretrained=True).to(device)\n",
        "\n",
        "model_ft.classifier = nn.Sequential(*[model_ft.classifier[i] for i in range(6)])  # remove the last layer (4096x1000)\n",
        "addition_fc = nn.Linear(4096, 2) # the layer to be stacked\n",
        "model_ft.classifier = nn.Sequential(model_ft.classifier,addition_fc)\n",
        "#model_ft = nn.Sequential(model_ft,addition_fc)\n",
        "\n",
        "criterion = nn.CrossEntropyLoss()\n",
        "#criterion = FocalLoss()\n",
        "\n",
        "# Observe that all parameters are being optimized\n",
        "optimizer_ft = optim.SGD(model_ft.parameters(), lr=0.001, momentum=0.9, weight_decay=0.0)\n",
        "\n",
        "# step size could be\n",
        "exp_lr_scheduler = lr_scheduler.StepLR(optimizer_ft, step_size=5, gamma=0.1)\n",
        "\n",
        "# train the model using a fined-tuned way\n",
        "model_ft = train_model(model_ft, criterion, optimizer_ft, exp_lr_scheduler, num_epochs=NUM)\n",
        "'''"
      ],
      "metadata": {
        "id": "MCH0NPATUrnm"
      },
      "execution_count": null,
      "outputs": []
    },
    {
      "cell_type": "markdown",
      "source": [
        "#CASE 2 : USE **ResNet50**"
      ],
      "metadata": {
        "id": "zM50IV4f9V5Z"
      }
    },
    {
      "cell_type": "code",
      "source": [
        "'''\n",
        "# do \"Finetuning \" , using ( pretrained ResNet50 )\n",
        "\n",
        "### resnet50 MODEL %%%%%%%%%%%%%%%%%%%%%%%%%%%%%%%%%%%%%%%%%%%%%%%%%%%%%%%%%%%\n",
        "model_conv = models.resnet50(pretrained=True).to(device)\n",
        "\n",
        "# modify the last fc,transfer to few layers(2048*1000＞＞＞２０４８＊２)\n",
        "model_conv.fc = nn.Sequential(\n",
        "               nn.Linear(2048, 128),\n",
        "               nn.ReLU(inplace=True),\n",
        "               nn.Linear(128, 2)).to(device) \n",
        "\n",
        "criterion = nn.CrossEntropyLoss()\n",
        "optimizer_conv = optim.Adam(model_conv.fc.parameters())\n",
        "\n",
        "model_conv = train_model(model_conv, criterion, optimizer_conv, num_epochs=NUM)\n",
        "'''"
      ],
      "metadata": {
        "colab": {
          "base_uri": "https://localhost:8080/"
        },
        "id": "uLuDe_4aBWY8",
        "outputId": "4666f285-5e62-4e16-b9ca-47e1ec3ce8af"
      },
      "execution_count": 46,
      "outputs": [
        {
          "output_type": "stream",
          "name": "stderr",
          "text": [
            "/usr/local/lib/python3.8/dist-packages/torchvision/models/_utils.py:208: UserWarning: The parameter 'pretrained' is deprecated since 0.13 and may be removed in the future, please use 'weights' instead.\n",
            "  warnings.warn(\n",
            "/usr/local/lib/python3.8/dist-packages/torchvision/models/_utils.py:223: UserWarning: Arguments other than a weight enum or `None` for 'weights' are deprecated since 0.13 and may be removed in the future. The current behavior is equivalent to passing `weights=ResNet50_Weights.IMAGENET1K_V1`. You can also use `weights=ResNet50_Weights.DEFAULT` to get the most up-to-date weights.\n",
            "  warnings.warn(msg)\n"
          ]
        },
        {
          "output_type": "stream",
          "name": "stdout",
          "text": [
            "Epoch 0/13\n",
            "----------\n",
            "train\n",
            "train Loss: 0.4943 Acc: 0.7540\n",
            "CHECK if train: train\n",
            "val\n",
            "val Loss: 0.2768 Acc: 0.8850\n",
            "CHECK if val: val\n",
            "\n",
            "Epoch 1/13\n",
            "----------\n",
            "train\n",
            "train Loss: 0.4433 Acc: 0.8025\n",
            "CHECK if train: train\n",
            "val\n",
            "val Loss: 0.2796 Acc: 0.8850\n",
            "CHECK if val: val\n",
            "\n",
            "Epoch 2/13\n",
            "----------\n",
            "train\n",
            "train Loss: 0.4263 Acc: 0.8015\n",
            "CHECK if train: train\n",
            "val\n",
            "val Loss: 0.2133 Acc: 0.9275\n",
            "CHECK if val: val\n",
            "\n",
            "Epoch 3/13\n",
            "----------\n",
            "train\n",
            "train Loss: 0.4105 Acc: 0.8080\n",
            "CHECK if train: train\n",
            "val\n",
            "val Loss: 0.2206 Acc: 0.9175\n",
            "CHECK if val: val\n",
            "\n",
            "Epoch 4/13\n",
            "----------\n",
            "train\n",
            "train Loss: 0.4122 Acc: 0.8025\n",
            "CHECK if train: train\n",
            "val\n",
            "val Loss: 0.2032 Acc: 0.9325\n",
            "CHECK if val: val\n",
            "\n",
            "Epoch 5/13\n",
            "----------\n",
            "train\n",
            "train Loss: 0.4310 Acc: 0.8055\n",
            "CHECK if train: train\n",
            "val\n",
            "val Loss: 0.2272 Acc: 0.9050\n",
            "CHECK if val: val\n",
            "\n",
            "Epoch 6/13\n",
            "----------\n",
            "train\n",
            "train Loss: 0.3689 Acc: 0.8445\n",
            "CHECK if train: train\n",
            "val\n",
            "val Loss: 0.2041 Acc: 0.9200\n",
            "CHECK if val: val\n",
            "\n",
            "Epoch 7/13\n",
            "----------\n",
            "train\n",
            "train Loss: 0.3612 Acc: 0.8395\n",
            "CHECK if train: train\n",
            "val\n",
            "val Loss: 0.2051 Acc: 0.9200\n",
            "CHECK if val: val\n",
            "\n",
            "Epoch 8/13\n",
            "----------\n",
            "train\n",
            "train Loss: 0.3697 Acc: 0.8345\n",
            "CHECK if train: train\n",
            "val\n",
            "val Loss: 0.2325 Acc: 0.9025\n",
            "CHECK if val: val\n",
            "\n",
            "Epoch 9/13\n",
            "----------\n",
            "train\n",
            "train Loss: 0.3646 Acc: 0.8345\n",
            "CHECK if train: train\n",
            "val\n",
            "val Loss: 0.2216 Acc: 0.9175\n",
            "CHECK if val: val\n",
            "\n",
            "Epoch 10/13\n",
            "----------\n",
            "train\n",
            "train Loss: 0.4130 Acc: 0.8005\n",
            "CHECK if train: train\n",
            "val\n",
            "val Loss: 0.2638 Acc: 0.8950\n",
            "CHECK if val: val\n",
            "\n",
            "Epoch 11/13\n",
            "----------\n",
            "train\n",
            "train Loss: 0.3825 Acc: 0.8215\n",
            "CHECK if train: train\n",
            "val\n",
            "val Loss: 0.2344 Acc: 0.9050\n",
            "CHECK if val: val\n",
            "\n",
            "Epoch 12/13\n",
            "----------\n",
            "train\n",
            "train Loss: 0.3974 Acc: 0.8125\n",
            "CHECK if train: train\n",
            "val\n",
            "val Loss: 0.1995 Acc: 0.9250\n",
            "CHECK if val: val\n",
            "\n",
            "Epoch 13/13\n",
            "----------\n",
            "train\n",
            "train Loss: 0.3602 Acc: 0.8340\n",
            "CHECK if train: train\n",
            "val\n",
            "val Loss: 0.2163 Acc: 0.9175\n",
            "CHECK if val: val\n",
            "\n",
            "Training complete in 7m 7s\n",
            "Best val Acc: 0.932500\n"
          ]
        }
      ]
    },
    {
      "cell_type": "markdown",
      "metadata": {
        "id": "TQSHmLcdmgpf"
      },
      "source": [
        "#**Case 3:**\n",
        "Load a non-pretrained model and reset final fully connected layer ** "
      ]
    },
    {
      "cell_type": "markdown",
      "source": [
        "#CASE 3 : USE **alexnet**"
      ],
      "metadata": {
        "id": "iOFUmX_q9oDn"
      }
    },
    {
      "cell_type": "code",
      "metadata": {
        "id": "4TwcHLSKmi03",
        "colab": {
          "base_uri": "https://localhost:8080/",
          "height": 156
        },
        "outputId": "9ed35c34-4f7e-4c49-c5f4-97a0e8496449"
      },
      "source": [
        "'''\n",
        "## Alexnet\n",
        "# change ResNet50\n",
        " \n",
        "#model_ft = models.alexnet(pretrained=True) # model_ft : finetune model\n",
        "# change models.alexnet(pretrained=false) >>> use default() ------ train Alexnet from scratch!!\n",
        "model_ft = models.alexnet()\n",
        "model_ft.classifier = nn.Sequential(*[model_ft.classifier[i] for i in range(6)])  # remove the last layer (4096x1000)\n",
        "addition_fc = nn.Linear(4096, 2) # the layer to be stacked\n",
        "model_ft.classifier = nn.Sequential(model_ft.classifier,addition_fc)\n",
        "#model_ft = nn.Sequential(model_ft,addition_fc)\n",
        "print(model_ft)\n",
        "##\n",
        "\n",
        "model_ft = model_ft.to(device)\n",
        "\n",
        "criterion = nn.CrossEntropyLoss()\n",
        "#criterion = FocalLoss()\n",
        "\n",
        "# Observe that all parameters are being optimized\n",
        "optimizer_ft = optim.SGD(model_ft.parameters(), lr=0.001, momentum=0.9, weight_decay=0.0)\n",
        "\n",
        "# step size could be\n",
        "exp_lr_scheduler = lr_scheduler.StepLR(optimizer_ft, step_size=5, gamma=0.1)\n",
        "\n",
        "# train the model using a fined-tuned way\n",
        "model_ft = train_model(model_ft, criterion, optimizer_ft, exp_lr_scheduler, num_epochs=NUM)\n",
        "'''"
      ],
      "execution_count": 47,
      "outputs": [
        {
          "output_type": "execute_result",
          "data": {
            "text/plain": [
              "'\\n## Alexnet\\n# change ResNet50\\n \\n#model_ft = models.alexnet(pretrained=True) # model_ft : finetune model\\n# change models.alexnet(pretrained=false) >>> use default() ------ train Alexnet from scratch!!\\nmodel_ft = models.alexnet()\\nmodel_ft.classifier = nn.Sequential(*[model_ft.classifier[i] for i in range(6)])  # remove the last layer (4096x1000)\\naddition_fc = nn.Linear(4096, 2) # the layer to be stacked\\nmodel_ft.classifier = nn.Sequential(model_ft.classifier,addition_fc)\\n#model_ft = nn.Sequential(model_ft,addition_fc)\\nprint(model_ft)\\n##\\n\\nmodel_ft = model_ft.to(device)\\n\\ncriterion = nn.CrossEntropyLoss()\\n#criterion = FocalLoss()\\n\\n# Observe that all parameters are being optimized\\noptimizer_ft = optim.SGD(model_ft.parameters(), lr=0.001, momentum=0.9, weight_decay=0.0)\\n\\n# step size could be\\nexp_lr_scheduler = lr_scheduler.StepLR(optimizer_ft, step_size=5, gamma=0.1)\\n\\n# train the model using a fined-tuned way\\nmodel_ft = train_model(model_ft, criterion, optimizer_ft, exp_lr_scheduler, num_epochs=NUM)\\n'"
            ],
            "application/vnd.google.colaboratory.intrinsic+json": {
              "type": "string"
            }
          },
          "metadata": {},
          "execution_count": 47
        }
      ]
    },
    {
      "cell_type": "markdown",
      "source": [
        "#CASE 3 : USE **ResNet50**"
      ],
      "metadata": {
        "id": "EIX9ot2o_7dQ"
      }
    },
    {
      "cell_type": "code",
      "source": [
        "'''\n",
        "## do \"train resnet50 from scratch!!\" , using ( ResNet50 )\n",
        " \n",
        "model_conv = models.resnet50().to(device)\n",
        "# change models.resnet50(pretrained=false) >>> use default() ------ train resnet50 from scratch!!\n",
        "\n",
        "# modify the last fc,transfer to few layers(2048*1000＞＞＞２０４８＊２)\n",
        "model_conv.fc = nn.Sequential(\n",
        "               nn.Linear(2048, 128),\n",
        "               nn.ReLU(inplace=True),\n",
        "               nn.Linear(128, 2)).to(device) \n",
        "\n",
        "criterion = nn.CrossEntropyLoss()\n",
        "optimizer_conv = optim.Adam(model_conv.fc.parameters())\n",
        "\n",
        "model_conv = train_model(model_conv, criterion, optimizer_conv, num_epochs=NUM)\n",
        "'''"
      ],
      "metadata": {
        "colab": {
          "base_uri": "https://localhost:8080/"
        },
        "id": "hbLXe1qRJmvz",
        "outputId": "ed056b9d-0ed2-4f19-b342-82c27b8544af"
      },
      "execution_count": 48,
      "outputs": [
        {
          "output_type": "stream",
          "name": "stdout",
          "text": [
            "Epoch 0/13\n",
            "----------\n",
            "train\n",
            "train Loss: 0.6979 Acc: 0.5430\n",
            "CHECK if train: train\n",
            "val\n",
            "val Loss: 0.6788 Acc: 0.5850\n",
            "CHECK if val: val\n",
            "\n",
            "Epoch 1/13\n",
            "----------\n",
            "train\n",
            "train Loss: 0.6898 Acc: 0.5380\n",
            "CHECK if train: train\n",
            "val\n",
            "val Loss: 0.6846 Acc: 0.5450\n",
            "CHECK if val: val\n",
            "\n",
            "Epoch 2/13\n",
            "----------\n",
            "train\n",
            "train Loss: 0.6920 Acc: 0.5265\n",
            "CHECK if train: train\n",
            "val\n",
            "val Loss: 0.6941 Acc: 0.5050\n",
            "CHECK if val: val\n",
            "\n",
            "Epoch 3/13\n",
            "----------\n",
            "train\n",
            "train Loss: 0.6959 Acc: 0.4985\n",
            "CHECK if train: train\n",
            "val\n",
            "val Loss: 0.6920 Acc: 0.5125\n",
            "CHECK if val: val\n",
            "\n",
            "Epoch 4/13\n",
            "----------\n",
            "train\n",
            "train Loss: 0.6936 Acc: 0.5000\n",
            "CHECK if train: train\n",
            "val\n",
            "val Loss: 0.6920 Acc: 0.5075\n",
            "CHECK if val: val\n",
            "\n",
            "Epoch 5/13\n",
            "----------\n",
            "train\n",
            "train Loss: 0.6933 Acc: 0.4900\n",
            "CHECK if train: train\n",
            "val\n",
            "val Loss: 0.6922 Acc: 0.5075\n",
            "CHECK if val: val\n",
            "\n",
            "Epoch 6/13\n",
            "----------\n",
            "train\n",
            "train Loss: 0.6933 Acc: 0.4920\n",
            "CHECK if train: train\n",
            "val\n",
            "val Loss: 0.6916 Acc: 0.5150\n",
            "CHECK if val: val\n",
            "\n",
            "Epoch 7/13\n",
            "----------\n",
            "train\n",
            "train Loss: 0.6933 Acc: 0.5070\n",
            "CHECK if train: train\n",
            "val\n",
            "val Loss: 0.6918 Acc: 0.5000\n",
            "CHECK if val: val\n",
            "\n",
            "Epoch 8/13\n",
            "----------\n",
            "train\n",
            "train Loss: 0.6934 Acc: 0.4920\n",
            "CHECK if train: train\n",
            "val\n",
            "val Loss: 0.6919 Acc: 0.5025\n",
            "CHECK if val: val\n",
            "\n",
            "Epoch 9/13\n",
            "----------\n",
            "train\n",
            "train Loss: 0.6934 Acc: 0.4790\n",
            "CHECK if train: train\n",
            "val\n",
            "val Loss: 0.6918 Acc: 0.5000\n",
            "CHECK if val: val\n",
            "\n",
            "Epoch 10/13\n",
            "----------\n",
            "train\n",
            "train Loss: 0.6933 Acc: 0.4820\n",
            "CHECK if train: train\n",
            "val\n",
            "val Loss: 0.6924 Acc: 0.5075\n",
            "CHECK if val: val\n",
            "\n",
            "Epoch 11/13\n",
            "----------\n",
            "train\n",
            "train Loss: 0.6933 Acc: 0.4960\n",
            "CHECK if train: train\n",
            "val\n",
            "val Loss: 0.6919 Acc: 0.5025\n",
            "CHECK if val: val\n",
            "\n",
            "Epoch 12/13\n",
            "----------\n",
            "train\n",
            "train Loss: 0.6942 Acc: 0.4820\n",
            "CHECK if train: train\n",
            "val\n",
            "val Loss: 0.6918 Acc: 0.5000\n",
            "CHECK if val: val\n",
            "\n",
            "Epoch 13/13\n",
            "----------\n",
            "train\n",
            "train Loss: 0.6934 Acc: 0.4830\n",
            "CHECK if train: train\n",
            "val\n",
            "val Loss: 0.6919 Acc: 0.5125\n",
            "CHECK if val: val\n",
            "\n",
            "Training complete in 6m 56s\n",
            "Best val Acc: 0.585000\n"
          ]
        }
      ]
    },
    {
      "cell_type": "code",
      "source": [
        "# save data \n",
        "#np.savez_compressed('savez_compressed.npz', my_arr1=epoch_train_loss_his, my_arr2=epoch_val_loss_his, my_arr3=epoch_train_acc_his, my_arr4=epoch_val_acc_his )\n",
        "\n",
        "# load data\n",
        "#npz_file = np.load('savez_compressed.npz')\n",
        "#new_arr1, new_arr2, new_arr3, new_arr4  = npz_file['my_arr1'], npz_file['my_arr2'], npz_file['my_arr3'], npz_file['my_arr4']"
      ],
      "metadata": {
        "id": "-U2PDA154baf"
      },
      "execution_count": 49,
      "outputs": []
    },
    {
      "cell_type": "code",
      "source": [
        "# print  history\n",
        "# epoch_train_loss_his & epoch_val_loss_his & epoch_train_acc_his & epoch_val_acc_his\n",
        "\n",
        "plt.figure()\n",
        "\n",
        "x_values=list(range(num_epochs))\n",
        "\n",
        "# fig.1\n",
        "plt.subplot(2, 2, 1)\n",
        "plt.plot(x_values,epoch_train_loss_his)\n",
        "plt.legend(['train Loss'])\n",
        "plt.xlabel('epoch')\n",
        "plt.ylabel('Loss')\n",
        "plt.ylim(0,2)\n",
        "\n",
        "# fig.2\n",
        "plt.subplot(2, 2, 2)\n",
        "plt.plot(x_values,epoch_val_loss_his)\n",
        "plt.legend(['val. Loss'])\n",
        "plt.xlabel('epoch')\n",
        "#plt.ylabel('Loss')\n",
        "plt.ylim(0,2)\n",
        "\n",
        "# fig.3\n",
        "plt.subplot(2, 2, 3)\n",
        "plt.plot(x_values,epoch_train_acc_his)\n",
        "plt.legend(['train acc.'])\n",
        "plt.xlabel('epoch')\n",
        "plt.ylabel('acc.')\n",
        "plt.ylim(0.4,1)\n",
        "\n",
        "# fig.4\n",
        "plt.subplot(2, 2, 4)\n",
        "plt.plot(x_values,epoch_val_acc_his)\n",
        "plt.legend(['val acc.'])\n",
        "plt.xlabel('epoch')\n",
        "#plt.ylabel('acc.')\n",
        "plt.ylim(0.4 ,1)\n",
        "\n",
        "#x_major_locator=MultipleLocator(1)\n",
        "#把x轴的刻度间隔设置为1，并存在变量里\n",
        "#y_major_locator=MultipleLocator(0.5)\n",
        "\n",
        "#ax=plt.gca()\n",
        "#ax为两条坐标轴的实例\n",
        "#ax.xaxis.set_major_locator(x_major_locator)\n",
        "#把x轴的主刻度设置为1的倍数\n",
        "#ax.yaxis.set_major_locator(y_major_locator)\n",
        "\n",
        "# part of code modified from: https://blog.csdn.net/weixin_44520259/article/details/89917026\n",
        "\n",
        "plt.show()"
      ],
      "metadata": {
        "id": "bu_HzSbUu0fM",
        "colab": {
          "base_uri": "https://localhost:8080/",
          "height": 283
        },
        "outputId": "74583e20-c877-4e8f-d9e1-46f61664a7ef"
      },
      "execution_count": 50,
      "outputs": [
        {
          "output_type": "display_data",
          "data": {
            "text/plain": [
              "<Figure size 432x288 with 4 Axes>"
            ],
            "image/png": "[encoded data removed]"
          },
          "metadata": {
            "needs_background": "light"
          }
        }
      ]
    },
    {
      "cell_type": "markdown",
      "metadata": {
        "id": "_OU2kGYPmUGz"
      },
      "source": [
        "**Visualizing the model predictions:**\n",
        "Generic function to display predictions for a few images"
      ]
    },
    {
      "cell_type": "code",
      "metadata": {
        "id": "G3u5SQux51pH",
        "colab": {
          "base_uri": "https://localhost:8080/",
          "height": 636
        },
        "outputId": "ac620687-38c9-4d80-bacc-276299899e8d"
      },
      "source": [
        "def visualize_model(model, num_images=6):\n",
        "    was_training = model.training\n",
        "    model.eval()\n",
        "    images_so_far = 0\n",
        "    fig = plt.figure()\n",
        "\n",
        "    with torch.no_grad():\n",
        "        for i, (inputs, labels) in enumerate(dataloaders['val']):\n",
        "            inputs = inputs.to(device)\n",
        "            labels = labels.to(device)\n",
        "\n",
        "            outputs = model(inputs)\n",
        "            _, preds = torch.max(outputs, 1)\n",
        "\n",
        "            for j in range(inputs.size()[0]):\n",
        "                images_so_far += 1\n",
        "                ax = plt.subplot(num_images//2, 2, images_so_far)\n",
        "                ax.axis('off')\n",
        "                ax.set_title('predicted: {}'.format(class_names[preds[j]]))\n",
        "                imshow(inputs.cpu().data[j])\n",
        "\n",
        "                if images_so_far == num_images:\n",
        "                    model.train(mode=was_training)\n",
        "                    return\n",
        "        model.train(mode=was_training)\n",
        "        \n",
        "#visualize_model(model_ft)\n",
        "visualize_model(model_conv)"
      ],
      "execution_count": 51,
      "outputs": [
        {
          "output_type": "stream",
          "name": "stderr",
          "text": [
            "/usr/local/lib/python3.8/dist-packages/torch/utils/data/dataloader.py:554: UserWarning: This DataLoader will create 4 worker processes in total. Our suggested max number of worker in current system is 2, which is smaller than what this DataLoader is going to create. Please be aware that excessive worker creation might get DataLoader running slow or even freeze, lower the worker number to avoid potential slowness/freeze if necessary.\n",
            "  warnings.warn(_create_warning_msg(\n"
          ]
        },
        {
          "output_type": "display_data",
          "data": {
            "text/plain": [
              "<Figure size 432x288 with 1 Axes>"
            ],
            "image/png": "[encoded data removed]"
          },
          "metadata": {
            "needs_background": "light"
          }
        },
        {
          "output_type": "display_data",
          "data": {
            "text/plain": [
              "<Figure size 432x288 with 1 Axes>"
            ],
            "image/png": "[encoded data removed]"
          },
          "metadata": {
            "needs_background": "light"
          }
        },
        {
          "output_type": "display_data",
          "data": {
            "text/plain": [
              "<Figure size 432x288 with 1 Axes>"
            ],
            "image/png": "[encoded data removed]"
          },
          "metadata": {
            "needs_background": "light"
          }
        },
        {
          "output_type": "display_data",
          "data": {
            "text/plain": [
              "<Figure size 432x288 with 1 Axes>"
            ],
            "image/png": "[encoded data removed]"
          },
          "metadata": {
            "needs_background": "light"
          }
        },
        {
          "output_type": "display_data",
          "data": {
            "text/plain": [
              "<Figure size 432x288 with 1 Axes>"
            ],
            "image/png": "[encoded data removed]"
          },
          "metadata": {
            "needs_background": "light"
          }
        },
        {
          "output_type": "display_data",
          "data": {
            "text/plain": [
              "<Figure size 432x288 with 1 Axes>"
            ],
            "image/png": "[encoded data removed]"
          },
          "metadata": {
            "needs_background": "light"
          }
        }
      ]
    }
  ]
}