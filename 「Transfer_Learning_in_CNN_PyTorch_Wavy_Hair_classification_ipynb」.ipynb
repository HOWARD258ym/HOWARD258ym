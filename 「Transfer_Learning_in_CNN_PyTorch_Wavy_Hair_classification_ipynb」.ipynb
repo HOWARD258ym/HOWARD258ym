{
  "cells": [
    {
      "cell_type": "markdown",
      "metadata": {
        "id": "view-in-github",
        "colab_type": "text"
      },
      "source": [
        "<a href=\"https://colab.research.google.com/github/HOWARD258ym/HOWARD258ym/blob/main/%E3%80%8CTransfer_Learning_in_CNN_PyTorch_Wavy_Hair_classification_ipynb%E3%80%8D.ipynb\" target=\"_parent\"><img src=\"https://colab.research.google.com/assets/colab-badge.svg\" alt=\"Open In Colab\"/></a>"
      ]
    },
    {
      "cell_type": "markdown",
      "metadata": {
        "id": "Y2TnpdCDuDnT"
      },
      "source": [
        "**Initial step:** \n",
        "\n",
        "data set\n",
        "http ://mmlab.ie.cuhk.edu.hk/projects/CelebA.html\n",
        "\n",
        "intro. doc.\n",
        "https://zhuanlan.zhihu.com/p/35975956\n",
        "\n",
        "train/wavy_hair(trainA): 8000 imgs\n",
        "\n",
        "train/non_wavy_hair(trainB): 8000 imgs\n",
        "\n",
        "val/wavy_hair(trainA): 2000 imgs\n",
        "\n",
        "val/non_wavy_hair(trainB): 2000 imgs\n",
        "\n",
        "mount data to this ipynb!"
      ]
    },
    {
      "cell_type": "markdown",
      "metadata": {
        "id": "PQXKBn7thn0T"
      },
      "source": [
        "# Import dependencies"
      ]
    },
    {
      "cell_type": "code",
      "execution_count": 63,
      "metadata": {
        "id": "09fk3N3Gn1Pl",
        "colab": {
          "base_uri": "https://localhost:8080/"
        },
        "outputId": "6d86c2a9-af79-44fd-ec7e-496908c575c0"
      },
      "outputs": [
        {
          "output_type": "stream",
          "name": "stdout",
          "text": [
            "Drive already mounted at /content/drive; to attempt to forcibly remount, call drive.mount(\"/content/drive\", force_remount=True).\n"
          ]
        }
      ],
      "source": [
        "from google.colab import drive\n",
        "drive.mount('/content/drive')"
      ]
    },
    {
      "cell_type": "code",
      "execution_count": 64,
      "metadata": {
        "id": "KJihfaYeoG8m",
        "colab": {
          "base_uri": "https://localhost:8080/",
          "height": 52
        },
        "outputId": "022cfd5f-bd47-4ab5-ae3b-335af3c7fb08"
      },
      "outputs": [
        {
          "output_type": "execute_result",
          "data": {
            "text/plain": [
              "'\\n!ls /content/drive/MyDrive/TIBAME\\n%cd \"/content/drive/MyDrive/TIBAME/img_align_celeba/\"\\n\\n!ls\\n!unzip -u \"/content/drive/MyDrive/TIBAME/img_align_celeba.zip\" -d \"/content/drive/MyDrive/TIBAME/\"\\n'"
            ],
            "application/vnd.google.colaboratory.intrinsic+json": {
              "type": "string"
            }
          },
          "metadata": {},
          "execution_count": 64
        }
      ],
      "source": [
        "# mount Google drive correctly\n",
        "'''\n",
        "!ls /content/drive/MyDrive/TIBAME\n",
        "%cd \"/content/drive/MyDrive/TIBAME/img_align_celeba/\"\n",
        "\n",
        "!ls\n",
        "!unzip -u \"/content/drive/MyDrive/TIBAME/img_align_celeba.zip\" -d \"/content/drive/MyDrive/TIBAME/\"\n",
        "'''"
      ]
    },
    {
      "cell_type": "markdown",
      "metadata": {
        "id": "XKsDdcCP9Xxj"
      },
      "source": [
        "@inproceedings{liu2015faceattributes,\n",
        "  title = {Deep Learning Face Attributes in the Wild},\n",
        "  author = {Liu, Ziwei and Luo, Ping and Wang, Xiaogang and Tang, Xiaoou},\n",
        "  booktitle = {Proceedings of International Conference on Computer Vision (ICCV)},\n",
        "  month = {December},\n",
        "  year = {2015} \n",
        "}"
      ]
    },
    {
      "cell_type": "code",
      "execution_count": 65,
      "metadata": {
        "id": "8Rh5sNB3wrsi",
        "colab": {
          "base_uri": "https://localhost:8080/",
          "height": 156
        },
        "outputId": "1c72eac4-182d-46f1-d60d-18efe11fbd34"
      },
      "outputs": [
        {
          "output_type": "execute_result",
          "data": {
            "text/plain": [
              "'\\nDivide face accordance CelebA Attr type.\\nFROM https://zhuanlan.zhihu.com/p/35975956 \\n\\n\\nfrom __future__ import absolute_import\\nfrom __future__ import division\\nfrom __future__ import print_function\\n\\nimport shutil\\nimport os\\n\\noutput_path = \"/content/drive/MyDrive/TIBAME/CelebA/Wavy_Hair/train\"\\nimage_path = \"/content/drive/MyDrive/TIBAME/CelebA/img_align_celeba\"\\nCelebA_Attr_file = \"/content/drive/MyDrive/TIBAME/CelebA/list_attr_celeba.txt\"\\nAttr_type = 34 # Wavy_Hair\\n\\ndef main():\\n    #Divide face accordance CelebA Attr (Attr_type = 34 # Wavy_Hair) label.\\n    trainA_dir = os.path.join(output_path, \"trainA\")\\n    trainB_dir = os.path.join(output_path, \"trainB\")\\n    if not os.path.isdir(trainA_dir):\\n        os.makedirs(trainA_dir)\\n    if not os.path.isdir(trainB_dir):\\n        os.makedirs(trainB_dir)\\n\\n    not_found_txt = open(os.path.join(output_path, \"not_found_img.txt\"), \"w\")\\n    \\n    count_A = 0\\n    count_B = 0\\n    count_N = 0\\n\\n    with open(CelebA_Attr_file, \"r\") as Attr_file:\\n        Attr_info = Attr_file.readlines()\\n        Attr_info = Attr_info[2:]\\n        index = 0\\n        for line in Attr_info:\\n            index += 1\\n            info = line.split()\\n            filename = info[0]\\n            filepath_old = os.path.join(image_path, filename)\\n            if os.path.isfile(filepath_old):\\n                if int(info[Attr_type]) == 1:\\n                    filepath_new = os.path.join(trainA_dir, filename)\\n                    shutil.copyfile(filepath_old, filepath_new)\\n                    count_A += 1\\n                else:\\n                    filepath_new = os.path.join(trainB_dir, filename)\\n                    shutil.copyfile(filepath_old, filepath_new)\\n                    count_B += 1\\n                print(\"%d: success for copy %s -> %s\" % (index, info[Attr_type], filepath_new))\\n            else:\\n                print(\"%d: not found %s\\n\" % (index, filepath_old))\\n                not_found_txt.write(line)\\n                count_N += 1\\n\\n    not_found_txt.close()\\n    \\n    print(\"TrainA have %d images!\" % count_A)\\n    print(\"TrainB have %d images!\" % count_B)\\n    print(\"Not found %d images!\" % count_N)\\n\\nif __name__ == \"__main__\":\\n    main()\\n'"
            ],
            "application/vnd.google.colaboratory.intrinsic+json": {
              "type": "string"
            }
          },
          "metadata": {},
          "execution_count": 65
        }
      ],
      "source": [
        "# -*- coding: utf-8 -*-\n",
        "#!/usr/bin/env python3\n",
        "\n",
        "'''\n",
        "Divide face accordance CelebA Attr type.\n",
        "FROM https://zhuanlan.zhihu.com/p/35975956 \n",
        "\n",
        "\n",
        "from __future__ import absolute_import\n",
        "from __future__ import division\n",
        "from __future__ import print_function\n",
        "\n",
        "import shutil\n",
        "import os\n",
        "\n",
        "output_path = \"/content/drive/MyDrive/TIBAME/CelebA/Wavy_Hair/train\"\n",
        "image_path = \"/content/drive/MyDrive/TIBAME/CelebA/img_align_celeba\"\n",
        "CelebA_Attr_file = \"/content/drive/MyDrive/TIBAME/CelebA/list_attr_celeba.txt\"\n",
        "Attr_type = 34 # Wavy_Hair\n",
        "\n",
        "def main():\n",
        "    #Divide face accordance CelebA Attr (Attr_type = 34 # Wavy_Hair) label.\n",
        "    trainA_dir = os.path.join(output_path, \"trainA\")\n",
        "    trainB_dir = os.path.join(output_path, \"trainB\")\n",
        "    if not os.path.isdir(trainA_dir):\n",
        "        os.makedirs(trainA_dir)\n",
        "    if not os.path.isdir(trainB_dir):\n",
        "        os.makedirs(trainB_dir)\n",
        "\n",
        "    not_found_txt = open(os.path.join(output_path, \"not_found_img.txt\"), \"w\")\n",
        "    \n",
        "    count_A = 0\n",
        "    count_B = 0\n",
        "    count_N = 0\n",
        "\n",
        "    with open(CelebA_Attr_file, \"r\") as Attr_file:\n",
        "        Attr_info = Attr_file.readlines()\n",
        "        Attr_info = Attr_info[2:]\n",
        "        index = 0\n",
        "        for line in Attr_info:\n",
        "            index += 1\n",
        "            info = line.split()\n",
        "            filename = info[0]\n",
        "            filepath_old = os.path.join(image_path, filename)\n",
        "            if os.path.isfile(filepath_old):\n",
        "                if int(info[Attr_type]) == 1:\n",
        "                    filepath_new = os.path.join(trainA_dir, filename)\n",
        "                    shutil.copyfile(filepath_old, filepath_new)\n",
        "                    count_A += 1\n",
        "                else:\n",
        "                    filepath_new = os.path.join(trainB_dir, filename)\n",
        "                    shutil.copyfile(filepath_old, filepath_new)\n",
        "                    count_B += 1\n",
        "                print(\"%d: success for copy %s -> %s\" % (index, info[Attr_type], filepath_new))\n",
        "            else:\n",
        "                print(\"%d: not found %s\\n\" % (index, filepath_old))\n",
        "                not_found_txt.write(line)\n",
        "                count_N += 1\n",
        "\n",
        "    not_found_txt.close()\n",
        "    \n",
        "    print(\"TrainA have %d images!\" % count_A)\n",
        "    print(\"TrainB have %d images!\" % count_B)\n",
        "    print(\"Not found %d images!\" % count_N)\n",
        "\n",
        "if __name__ == \"__main__\":\n",
        "    main()\n",
        "'''"
      ]
    },
    {
      "cell_type": "code",
      "execution_count": 66,
      "metadata": {
        "id": "LnQ28D2MPZCQ",
        "colab": {
          "base_uri": "https://localhost:8080/",
          "height": 156
        },
        "outputId": "6b4af516-5617-4a48-da0a-be3bb483a179"
      },
      "outputs": [
        {
          "output_type": "execute_result",
          "data": {
            "text/plain": [
              "'\\nimport os\\nfrom sklearn.model_selection import train_test_split\\nimport shutil\\n\\npath1 = \"/content/drive/MyDrive/TIBAME/CelebA/Wavy_Hair/train/trainA\"\\npath11 = \"/content/drive/MyDrive/TIBAME/CelebA/Wavy_Hair/train/trainB\"\\npath2 = \"/content/drive/MyDrive/TIBAME/CelebA/Wavy_Hair/val/trainA\"\\npath22 = \"/content/drive/MyDrive/TIBAME/CelebA/Wavy_Hair/val/trainB\"\\n\\nimages1 = os.listdir(path1)  # all pics. in path1\\ntrain1, val1 = train_test_split(images1, train_size=0.8, random_state=42)  # get all pics. and split\\n\\nimages11 = os.listdir(path11)  # all pics. in \\ntrain11, val11 = train_test_split(images11, train_size=0.8, random_state=42)  # get all pics. and split\\n\\nprint(len(train1), len(val1))\\nprint(len(train11), len(val11))\\n#print(val1) --- file name\\n#print(val11)\\n\\nfor v in val1:\\n    path3 = path1 + \"/\" + str(v) # get 0.2 partition data in path1 folder \\n    # print(\"path3:\", path3)\\n    shutil.move(path3, path2)  # move 0.2 path3 to path2\\n\\nfor v in val11:\\n    path3 = path11 + \"/\" + str(v) # get 0.2 partition data in path11 folder\\n    # print(\"path3:\", path3)\\n    shutil.move(path3, path22)  # move 0.2 path3 to path22\\n\\n# ref.：https://blog.csdn.net/qq_38500228/article/details/122535872\\n'"
            ],
            "application/vnd.google.colaboratory.intrinsic+json": {
              "type": "string"
            }
          },
          "metadata": {},
          "execution_count": 66
        }
      ],
      "source": [
        "#split to train and val folder from \"/content/drive/MyDrive/TIBAME/CelebA/Wavy_Hair/train\"\n",
        "#partition (train,val) = (0.8,0.2)\n",
        "'''\n",
        "import os\n",
        "from sklearn.model_selection import train_test_split\n",
        "import shutil\n",
        "\n",
        "path1 = \"/content/drive/MyDrive/TIBAME/CelebA/Wavy_Hair/train/trainA\"\n",
        "path11 = \"/content/drive/MyDrive/TIBAME/CelebA/Wavy_Hair/train/trainB\"\n",
        "path2 = \"/content/drive/MyDrive/TIBAME/CelebA/Wavy_Hair/val/trainA\"\n",
        "path22 = \"/content/drive/MyDrive/TIBAME/CelebA/Wavy_Hair/val/trainB\"\n",
        "\n",
        "images1 = os.listdir(path1)  # all pics. in path1\n",
        "train1, val1 = train_test_split(images1, train_size=0.8, random_state=42)  # get all pics. and split\n",
        "\n",
        "images11 = os.listdir(path11)  # all pics. in \n",
        "train11, val11 = train_test_split(images11, train_size=0.8, random_state=42)  # get all pics. and split\n",
        "\n",
        "print(len(train1), len(val1))\n",
        "print(len(train11), len(val11))\n",
        "#print(val1) --- file name\n",
        "#print(val11)\n",
        "\n",
        "for v in val1:\n",
        "    path3 = path1 + \"/\" + str(v) # get 0.2 partition data in path1 folder \n",
        "    # print(\"path3:\", path3)\n",
        "    shutil.move(path3, path2)  # move 0.2 path3 to path2\n",
        "\n",
        "for v in val11:\n",
        "    path3 = path11 + \"/\" + str(v) # get 0.2 partition data in path11 folder\n",
        "    # print(\"path3:\", path3)\n",
        "    shutil.move(path3, path22)  # move 0.2 path3 to path22\n",
        "\n",
        "# ref.：https://blog.csdn.net/qq_38500228/article/details/122535872\n",
        "'''"
      ]
    },
    {
      "cell_type": "code",
      "execution_count": 67,
      "metadata": {
        "id": "NCmzcH9siOTH",
        "colab": {
          "base_uri": "https://localhost:8080/"
        },
        "outputId": "a7be4a4a-9f9b-4862-e677-dea3c558246e"
      },
      "outputs": [
        {
          "output_type": "stream",
          "name": "stdout",
          "text": [
            "torch version: 1.13.1+cu116\n",
            "torchvision version: 0.14.1+cu116\n"
          ]
        }
      ],
      "source": [
        "from __future__ import print_function, division\n",
        "\n",
        "import torch\n",
        "import torch.nn as nn\n",
        "from torch.nn import functional as F\n",
        "import torch.optim as optim\n",
        "from torch.hub import load_state_dict_from_url\n",
        "print(\"torch version:\",torch.__version__)\n",
        "\n",
        "from torch.optim import lr_scheduler\n",
        "from torch.optim.lr_scheduler import StepLR\n",
        "import itertools\n",
        "import numpy as np\n",
        "\n",
        "import torchvision\n",
        "from torchvision import datasets, models, transforms\n",
        "print(\"torchvision version:\", torchvision.__version__)\n",
        "\n",
        "import matplotlib.pyplot as plt\n",
        "from matplotlib.pyplot import MultipleLocator\n",
        "# set Scale interval\n",
        "%matplotlib inline\n",
        "#plt.show() # with %matplotlib inline, no need for plt.show()\n",
        "\n",
        "import time\n",
        "import os\n",
        "import copy\n",
        "import cv2\n",
        "\n",
        "import numpy as np\n",
        "\n",
        "from PIL import Image\n",
        "\n",
        "from google.colab.patches import cv2_imshow\n",
        "\n",
        "plt.ion()   # interactive mode"
      ]
    },
    {
      "cell_type": "code",
      "execution_count": 68,
      "metadata": {
        "id": "txzUSFJBcNpc"
      },
      "outputs": [],
      "source": [
        "# __all__ : define all models import name\n",
        "\n",
        "__all__ = ['ResNet', 'resnet18', 'resnet34', 'resnet50', 'resnet101',\n",
        "           'resnet152', 'resnext50_32x4d', 'resnext101_32x8d',\n",
        "           'wide_resnet50_2', 'wide_resnet101_2']\n",
        "\n",
        "# model_urls: download models and training weightws from following www. \n",
        "\n",
        "model_urls = {\n",
        "    'resnet18': 'https://download.pytorch.org/models/resnet18-5c106cde.pth',\n",
        "    'resnet34': 'https://download.pytorch.org/models/resnet34-333f7ec4.pth',\n",
        "    'resnet50': 'https://download.pytorch.org/models/resnet50-19c8e357.pth',\n",
        "    'resnet101': 'https://download.pytorch.org/models/resnet101-5d3b4d8f.pth',\n",
        "    'resnet152': 'https://download.pytorch.org/models/resnet152-b121ed2d.pth',\n",
        "    'resnext50_32x4d': 'https://download.pytorch.org/models/resnext50_32x4d-7cdf4587.pth',\n",
        "    'resnext101_32x8d': 'https://download.pytorch.org/models/resnext101_32x8d-8ba56ff5.pth',\n",
        "    'wide_resnet50_2': 'https://download.pytorch.org/models/wide_resnet50_2-95faca4d.pth',\n",
        "    'wide_resnet101_2': 'https://download.pytorch.org/models/wide_resnet101_2-32ee1156.pth',\n",
        "}"
      ]
    },
    {
      "cell_type": "markdown",
      "metadata": {
        "id": "mvm-RG_DiALg"
      },
      "source": [
        "#Create PyTorch data generators"
      ]
    },
    {
      "cell_type": "code",
      "execution_count": 69,
      "metadata": {
        "id": "RTZrF2PdjPcU"
      },
      "outputs": [],
      "source": [
        "## try to adjust data augmentation strategy \n",
        "\n",
        "data_transforms = {\n",
        "    'train': transforms.Compose([\n",
        "        transforms.RandomResizedCrop(224, scale=(0.8, 1.0)), # adjust (size , scale , ratio) >>> here set size(224,224) pixel, scale(length & width) randomly from (0.8 ~ 1)\n",
        "        transforms.RandomHorizontalFlip(p=0.7), # p : prob.\n",
        "        transforms.RandomVerticalFlip(p=0.7),\n",
        "        transforms.ToTensor(), # adjust grayscale range to (0-1)\n",
        "        transforms.Normalize([0.485, 0.456, 0.406], [0.229, 0.224, 0.225]) # adjust grayscale range in control [mean],[std] \n",
        "    ]),\n",
        "    'val': transforms.Compose([\n",
        "        transforms.Resize(256),\n",
        "        transforms.CenterCrop(224), # CenterCrop( size=(200,200) ) reserve (200,200)pixels from center   \n",
        "        transforms.ToTensor(),\n",
        "        transforms.Normalize([0.485, 0.456, 0.406], [0.229, 0.224, 0.225])\n",
        "    ]),\n",
        "}\n",
        "\n",
        "# the directory of your data in Google Drive\n",
        "######## following modify ########\n",
        "######## female >>> trainA(wavy_hair) , male >>> trainB(non_wavy_hair) #########\n",
        "\n",
        "# do remind that before executing DCGAN male/female face generation example, there are only 1000 images in the train/male and train/female, respectively.\n",
        "# '/content/drive/My Drive/male_female_images_mixed/train/female’\n",
        "# '/content/drive/My Drive/male_female_images_mixed/train/male’\n",
        "\n",
        "data_dir = '/content/drive/MyDrive/TIBAME/CelebA/Wavy_Hair/'\n",
        "\n",
        "\n",
        "image_datasets = {x: datasets.ImageFolder(os.path.join(data_dir, x), data_transforms[x]) for x in ['train', 'val']}\n",
        "dataloaders = {x: torch.utils.data.DataLoader(image_datasets[x], batch_size=4, shuffle=True, num_workers=4) for x in ['train', 'val']}\n",
        "dataset_sizes = {x: len(image_datasets[x]) for x in ['train', 'val']}\n",
        "\n",
        "class_names = image_datasets['train'].classes\n",
        "\n",
        "dataloaders = {x: torch.utils.data.DataLoader(image_datasets[x], batch_size=4, shuffle=True, num_workers=4) for x in ['train', 'val']}\n"
      ]
    },
    {
      "cell_type": "code",
      "execution_count": 70,
      "metadata": {
        "id": "eTAQEkQihDyw",
        "colab": {
          "base_uri": "https://localhost:8080/"
        },
        "outputId": "6bccd74f-fd5e-4386-c0fe-1b8843d1194d"
      },
      "outputs": [
        {
          "output_type": "execute_result",
          "data": {
            "text/plain": [
              "device(type='cuda', index=0)"
            ]
          },
          "metadata": {},
          "execution_count": 70
        }
      ],
      "source": [
        "#print(torch.cuda.is_available())\n",
        "device = torch.device(\"cuda:0\" if torch.cuda.is_available() else \"cpu\")\n",
        "device"
      ]
    },
    {
      "cell_type": "markdown",
      "metadata": {
        "id": "69P-kXNr46dQ"
      },
      "source": [
        "show some training data. Make sure the lables match the images"
      ]
    },
    {
      "cell_type": "code",
      "execution_count": 71,
      "metadata": {
        "id": "QxL65Tiole9n",
        "colab": {
          "base_uri": "https://localhost:8080/",
          "height": 148
        },
        "outputId": "3bf037d0-78a1-4f41-947c-06d8f937e47e"
      },
      "outputs": [
        {
          "output_type": "display_data",
          "data": {
            "text/plain": [
              "<Figure size 432x288 with 1 Axes>"
            ],
            "image/png": "[encoded data removed]"
          },
          "metadata": {
            "needs_background": "light"
          }
        }
      ],
      "source": [
        "def imshow(inp, title=None):\n",
        "    \"\"\"Imshow for Tensor.\"\"\"\n",
        "    inp = inp.numpy().transpose((1, 2, 0))\n",
        "    mean = np.array([0.485, 0.456, 0.406])\n",
        "    std = np.array([0.229, 0.224, 0.225])\n",
        "    inp = std * inp + mean\n",
        "    inp = np.clip(inp, 0, 1)\n",
        "    \n",
        "    # if opencv is desired\n",
        "    #new_img_rgb = cv2.cvtColor(np.uint8(inp*256), cv2.COLOR_BGR2RGB)\n",
        "    #print(title)    \n",
        "    #cv2_imshow(new_img_rgb)\n",
        "\n",
        "    plt.imshow(inp)\n",
        "    if title is not None:\n",
        "        plt.title(title)\n",
        "    plt.pause(0.001)  # pause a bit so that plots are updated\n",
        "\n",
        "\n",
        "# Get a batch of training data\n",
        "inputs, classes = next(iter(dataloaders['train']))\n",
        "\n",
        "\n",
        "# Make a grid from batch\n",
        "out = torchvision.utils.make_grid(inputs)\n",
        "\n",
        "imshow(out, title=[class_names[x] for x in classes])"
      ]
    },
    {
      "cell_type": "markdown",
      "metadata": {
        "id": "ztbd3qHIjY3H"
      },
      "source": [
        "#Train the model"
      ]
    },
    {
      "cell_type": "markdown",
      "metadata": {
        "id": "pJkOaVv9lwJa"
      },
      "source": [
        "Training the model,including:\n",
        "\n",
        "Scheduling learning rate,LR scheduler,\n",
        "\n",
        "Saving the best model"
      ]
    },
    {
      "cell_type": "code",
      "execution_count": 72,
      "metadata": {
        "id": "Z6RZDPY6lxoS"
      },
      "outputs": [],
      "source": [
        "NUM=44\n",
        "num_epochs=NUM\n",
        "epoch_train_loss_his = np.zeros(num_epochs)\n",
        "epoch_val_loss_his = np.zeros(num_epochs)\n",
        "epoch_train_acc_his = np.zeros(num_epochs)\n",
        "epoch_val_acc_his = np.zeros(num_epochs)\n",
        "\n",
        "# no \"scheduler\" version\n",
        "#def train_model(model, criterion, optimizer, num_epochs=NUM):\n",
        "# delete \"scheduler.step()\" below\n",
        "\n",
        "# for resnet50\n",
        "def train_model(model, criterion, optimizer, scheduler, num_epochs=NUM):\n",
        "    since = time.time()\n",
        "\n",
        "    best_model_wts = copy.deepcopy(model.state_dict())\n",
        "    best_acc = 0.0\n",
        "\n",
        "    for epoch in range(num_epochs):\n",
        "        print('Epoch {}/{}'.format(epoch, num_epochs - 1))\n",
        "        print('-' * 10)\n",
        "\n",
        "        # Each epoch has a training and validation phase\n",
        "        for phase in ['train', 'val']:\n",
        "            if phase == 'train':\n",
        "                scheduler.step()\n",
        "                model.train()  # Set model to training mode\n",
        "            else:\n",
        "                model.eval()   # Set model to evaluate mode\n",
        "\n",
        "            running_loss = 0.0\n",
        "            running_corrects = 0\n",
        "\n",
        "            # Iterate over data.\n",
        "            for inputs, labels in dataloaders[phase]:\n",
        "                inputs = inputs.to(device)\n",
        "                labels = labels.to(device)\n",
        "\n",
        "                # zero the parameter gradients\n",
        "                optimizer.zero_grad()\n",
        "\n",
        "                # forward\n",
        "                # track history if only in train\n",
        "                with torch.set_grad_enabled(phase == 'train'):\n",
        "                    outputs = model(inputs)\n",
        "                    _, preds = torch.max(outputs, 1)\n",
        "                    loss = criterion(outputs, labels)\n",
        "\n",
        "                    # backward + optimize only if in training phase\n",
        "                    if phase == 'train':\n",
        "                        loss.backward()\n",
        "                        optimizer.step()\n",
        "\n",
        "                # statistics\n",
        "                running_loss += loss.item() * inputs.size(0)                            \n",
        "                running_corrects += torch.sum(preds == labels.data)\n",
        "            # ---------------------------------------------------------------\n",
        "            # cal. epoch_loss & epoch_acc \n",
        "            epoch_loss = running_loss / dataset_sizes[phase]\n",
        "            epoch_acc = running_corrects.double() / dataset_sizes[phase]\n",
        "            \n",
        "            print( phase )\n",
        "            # list the 'train' & 'val' loss & acc\n",
        "            print('{} Loss: {:.4f} Acc: {:.4f}'.format(\n",
        "                phase, epoch_loss, epoch_acc))\n",
        "\n",
        "            # deep copy the model\n",
        "            if phase == 'val' and epoch_acc > best_acc:\n",
        "                best_acc = epoch_acc\n",
        "                best_model_wts = copy.deepcopy(model.state_dict())\n",
        "\n",
        "            # save my his. record \n",
        "            #for phase in ['train', 'val']:\n",
        "            if phase == 'train':                \n",
        "              epoch_train_loss_his[epoch] = epoch_loss\n",
        "              epoch_train_acc_his[epoch] = epoch_acc\n",
        "              print('CHECK if train:',phase)\n",
        "            else:\n",
        "              epoch_val_loss_his[epoch] = epoch_loss\n",
        "              epoch_val_acc_his[epoch] = epoch_acc\n",
        "              print('CHECK if val:',phase)\n",
        "\n",
        "        print()\n",
        "            \n",
        "    time_elapsed = time.time() - since\n",
        "    print('Training complete in {:.0f}m {:.0f}s'.format(\n",
        "        time_elapsed // 60, time_elapsed % 60))\n",
        "    print('Best val Acc: {:4f}'.format(best_acc))\n",
        "\n",
        "    # load best model weights\n",
        "    model.load_state_dict(best_model_wts)\n",
        "    return model\n",
        "    "
      ]
    },
    {
      "cell_type": "code",
      "execution_count": 73,
      "metadata": {
        "id": "soFQAqWzsOKz"
      },
      "outputs": [],
      "source": [
        "# check if anything's wrong above\n",
        "#input(\"Please press the Enter key to proceed\")\n",
        "#check shape of epoch_train_loss_his & epoch_val_loss_his & epoch_train_acc_his & epoch_val_acc_his\n",
        "#print(epoch_train_loss_his)"
      ]
    },
    {
      "cell_type": "markdown",
      "metadata": {
        "id": "DyiCCT9_khBA"
      },
      "source": [
        "# Create the network"
      ]
    },
    {
      "cell_type": "markdown",
      "metadata": {
        "id": "nQt3IXA0_cRT"
      },
      "source": [
        "**Case 1:\n",
        "using ConvNet as fixed feature extractor\n",
        "Here, we need to freeze all the network except the final layer. \n",
        "Set requires_grad == False to freeze the parameters \n",
        "so that the gradients are not computed in backward().**"
      ]
    },
    {
      "cell_type": "markdown",
      "metadata": {
        "id": "WFE8GetGzKGV"
      },
      "source": [
        "#CASE 1 : USE **alexnet**"
      ]
    },
    {
      "cell_type": "code",
      "execution_count": 74,
      "metadata": {
        "id": "Ybx2oyfMHz7I",
        "colab": {
          "base_uri": "https://localhost:8080/",
          "height": 156
        },
        "outputId": "cf801167-8d10-41df-bbf1-2fb43b84ce56"
      },
      "outputs": [
        {
          "output_type": "execute_result",
          "data": {
            "text/plain": [
              "'\\n# do \"feature extractor\" , using ( pretrained alexnet )\\n\\nmodel_conv = models.alexnet(pretrained=True)\\n\\nfor param in model_conv.parameters():\\n    param.requires_grad = False # param.requires_grad = False ------ represent conv. no operate !!\\n# Parameters of newly constructed modules have requires_grad=True by default\\n\\nmodel_conv.classifier = nn.Sequential(*[model_conv.classifier[i] for i in range(6)]) # remove the last layer i = 7 (4096x1000)\\naddition_fc = nn.Linear(4096, 2) # the layer to be stacked\\nmodel_conv.classifier = nn.Sequential(model_conv.classifier,addition_fc)\\n\\nmodel_conv = model_conv.to(device)\\n\\ncriterion = nn.CrossEntropyLoss()\\n\\n# Observe that only parameters of final layer are being optimized as\\n# opposed to before.\\noptimizer_conv = optim.SGD(model_conv.parameters(), lr=0.001, momentum=0.9)\\n\\n# Decay LR by a factor of 0.1 every 5 epochs\\nexp_lr_scheduler = lr_scheduler.StepLR(optimizer_conv, step_size=5, gamma=0.1)\\n\\n# train the model with feature extractor way\\nmodel_conv = train_model(model_conv, criterion, optimizer_conv,\\n                         exp_lr_scheduler, num_epochs=NUM)\\n'"
            ],
            "application/vnd.google.colaboratory.intrinsic+json": {
              "type": "string"
            }
          },
          "metadata": {},
          "execution_count": 74
        }
      ],
      "source": [
        "'''\n",
        "# do \"feature extractor\" , using ( pretrained alexnet )\n",
        "\n",
        "model_conv = models.alexnet(pretrained=True)\n",
        "\n",
        "for param in model_conv.parameters():\n",
        "    param.requires_grad = False # param.requires_grad = False ------ represent conv. no operate !!\n",
        "# Parameters of newly constructed modules have requires_grad=True by default\n",
        "\n",
        "model_conv.classifier = nn.Sequential(*[model_conv.classifier[i] for i in range(6)]) # remove the last layer i = 7 (4096x1000)\n",
        "addition_fc = nn.Linear(4096, 2) # the layer to be stacked\n",
        "model_conv.classifier = nn.Sequential(model_conv.classifier,addition_fc)\n",
        "\n",
        "model_conv = model_conv.to(device)\n",
        "\n",
        "criterion = nn.CrossEntropyLoss()\n",
        "\n",
        "# Observe that only parameters of final layer are being optimized as\n",
        "# opposed to before.\n",
        "optimizer_conv = optim.SGD(model_conv.parameters(), lr=0.001, momentum=0.9)\n",
        "\n",
        "# Decay LR by a factor of 0.1 every 5 epochs\n",
        "exp_lr_scheduler = lr_scheduler.StepLR(optimizer_conv, step_size=5, gamma=0.1)\n",
        "\n",
        "# train the model with feature extractor way\n",
        "model_conv = train_model(model_conv, criterion, optimizer_conv,\n",
        "                         exp_lr_scheduler, num_epochs=NUM)\n",
        "'''\n"
      ]
    },
    {
      "cell_type": "markdown",
      "metadata": {
        "id": "QLcn8GSVXeP8"
      },
      "source": [
        "#CASE 1 : USE **ResNet50**"
      ]
    },
    {
      "cell_type": "code",
      "execution_count": 75,
      "metadata": {
        "colab": {
          "base_uri": "https://localhost:8080/",
          "height": 156
        },
        "id": "CEsj3qxfXIZV",
        "outputId": "4c50166c-266d-498c-dd43-1b8c292523d1"
      },
      "outputs": [
        {
          "output_type": "execute_result",
          "data": {
            "text/plain": [
              "'\\n# do \"feature extractor\" , using ( pretrained ResNet50 )\\n\\n### resnet50 MODEL %%%%%%%%%%%%%%%%%%%%%%%%%%%%%%%%%%%%%%%%%%%%%%%%%%%%%%%%%%%\\nmodel_conv = models.resnet50(pretrained=True).to(device)\\n\\nfor param in model_conv.parameters():\\n    param.requires_grad = False # param.requires_grad = False ------ represent conv. no operate !!\\n# Parameters of newly constructed modules have requires_grad=True by default\\n\\n#print(model_conv)\\n\\n# modify the last fc,transfer to few layers(2048*1000＞＞＞２０４８＊２)\\nmodel_conv.fc = nn.Sequential(\\n               nn.Linear(2048, 128),\\n               nn.ReLU(inplace=True),\\n               nn.Linear(128, 2)).to(device)\\n\\n#(fc): Sequential(\\n#    (0): Linear(in_features=2048, out_features=128, bias=True)\\n#    (1): ReLU(inplace=True)\\n#    (2): Linear(in_features=128, out_features=2, bias=True)  \\n\\n#print(model_conv)\\n\\ncriterion = nn.CrossEntropyLoss()\\noptimizer_conv = optim.Adam(model_conv.fc.parameters())\\n\\nmodel_conv = train_model(model_conv, criterion, optimizer_conv, num_epochs=NUM)\\n'"
            ],
            "application/vnd.google.colaboratory.intrinsic+json": {
              "type": "string"
            }
          },
          "metadata": {},
          "execution_count": 75
        }
      ],
      "source": [
        "'''\n",
        "# do \"feature extractor\" , using ( pretrained ResNet50 )\n",
        "\n",
        "### resnet50 MODEL %%%%%%%%%%%%%%%%%%%%%%%%%%%%%%%%%%%%%%%%%%%%%%%%%%%%%%%%%%%\n",
        "model_conv = models.resnet50(pretrained=True).to(device)\n",
        "\n",
        "for param in model_conv.parameters():\n",
        "    param.requires_grad = False # param.requires_grad = False ------ represent conv. no operate !!\n",
        "# Parameters of newly constructed modules have requires_grad=True by default\n",
        "\n",
        "#print(model_conv)\n",
        "\n",
        "# modify the last fc,transfer to few layers(2048*1000＞＞＞２０４８＊２)\n",
        "model_conv.fc = nn.Sequential(\n",
        "               nn.Linear(2048, 128),\n",
        "               nn.ReLU(inplace=True),\n",
        "               nn.Linear(128, 2)).to(device)\n",
        "\n",
        "#(fc): Sequential(\n",
        "#    (0): Linear(in_features=2048, out_features=128, bias=True)\n",
        "#    (1): ReLU(inplace=True)\n",
        "#    (2): Linear(in_features=128, out_features=2, bias=True)  \n",
        "\n",
        "#print(model_conv)\n",
        "\n",
        "criterion = nn.CrossEntropyLoss()\n",
        "optimizer_conv = optim.Adam(model_conv.fc.parameters())\n",
        "\n",
        "model_conv = train_model(model_conv, criterion, optimizer_conv, num_epochs=NUM)\n",
        "'''\n"
      ]
    },
    {
      "cell_type": "markdown",
      "metadata": {
        "id": "aSaxrY6L84CW"
      },
      "source": [
        "# **Case 2:**\n",
        "Finetuning the convnet, Load a pretrained model and reset final fully connected layer.**"
      ]
    },
    {
      "cell_type": "markdown",
      "metadata": {
        "id": "AiRPlUFO9RB6"
      },
      "source": [
        "#CASE 2 : USE **alexnet**"
      ]
    },
    {
      "cell_type": "code",
      "execution_count": 76,
      "metadata": {
        "id": "MCH0NPATUrnm",
        "colab": {
          "base_uri": "https://localhost:8080/",
          "height": 139
        },
        "outputId": "b3a1160a-0c2c-4aa2-8113-7546af6df1c8"
      },
      "outputs": [
        {
          "output_type": "execute_result",
          "data": {
            "text/plain": [
              "'\\n## Alexnet\\n \\n# change models.alexnet(pretrained=false) >>> use default() ------ train Alexnet from scratch!!\\nmodel_ft = models.alexnet(pretrained=True).to(device)\\n\\nmodel_ft.classifier = nn.Sequential(*[model_ft.classifier[i] for i in range(6)])  # remove the last layer (4096x1000)\\naddition_fc = nn.Linear(4096, 2) # the layer to be stacked\\nmodel_ft.classifier = nn.Sequential(model_ft.classifier,addition_fc)\\n#model_ft = nn.Sequential(model_ft,addition_fc)\\n\\ncriterion = nn.CrossEntropyLoss()\\n#criterion = FocalLoss()\\n\\n# Observe that all parameters are being optimized\\noptimizer_ft = optim.SGD(model_ft.parameters(), lr=0.001, momentum=0.9, weight_decay=0.0)\\n\\n# step size could be\\nexp_lr_scheduler = lr_scheduler.StepLR(optimizer_ft, step_size=5, gamma=0.1)\\n\\n# train the model using a fined-tuned way\\nmodel_ft = train_model(model_ft, criterion, optimizer_ft, exp_lr_scheduler, num_epochs=NUM)\\n'"
            ],
            "application/vnd.google.colaboratory.intrinsic+json": {
              "type": "string"
            }
          },
          "metadata": {},
          "execution_count": 76
        }
      ],
      "source": [
        "'''\n",
        "## Alexnet\n",
        " \n",
        "# change models.alexnet(pretrained=false) >>> use default() ------ train Alexnet from scratch!!\n",
        "model_ft = models.alexnet(pretrained=True).to(device)\n",
        "\n",
        "model_ft.classifier = nn.Sequential(*[model_ft.classifier[i] for i in range(6)])  # remove the last layer (4096x1000)\n",
        "addition_fc = nn.Linear(4096, 2) # the layer to be stacked\n",
        "model_ft.classifier = nn.Sequential(model_ft.classifier,addition_fc)\n",
        "#model_ft = nn.Sequential(model_ft,addition_fc)\n",
        "\n",
        "criterion = nn.CrossEntropyLoss()\n",
        "#criterion = FocalLoss()\n",
        "\n",
        "# Observe that all parameters are being optimized\n",
        "optimizer_ft = optim.SGD(model_ft.parameters(), lr=0.001, momentum=0.9, weight_decay=0.0)\n",
        "\n",
        "# step size could be\n",
        "exp_lr_scheduler = lr_scheduler.StepLR(optimizer_ft, step_size=5, gamma=0.1)\n",
        "\n",
        "# train the model using a fined-tuned way\n",
        "model_ft = train_model(model_ft, criterion, optimizer_ft, exp_lr_scheduler, num_epochs=NUM)\n",
        "'''"
      ]
    },
    {
      "cell_type": "markdown",
      "metadata": {
        "id": "zM50IV4f9V5Z"
      },
      "source": [
        "#CASE 2 : USE **ResNet50**"
      ]
    },
    {
      "cell_type": "code",
      "execution_count": 77,
      "metadata": {
        "id": "uLuDe_4aBWY8",
        "colab": {
          "base_uri": "https://localhost:8080/",
          "height": 104
        },
        "outputId": "2c518a19-b3dd-47a5-8bb9-3ecf60635e41"
      },
      "outputs": [
        {
          "output_type": "execute_result",
          "data": {
            "text/plain": [
              "'\\n# do \"Finetuning \" , using ( pretrained ResNet50 )\\n\\n### resnet50 MODEL %%%%%%%%%%%%%%%%%%%%%%%%%%%%%%%%%%%%%%%%%%%%%%%%%%%%%%%%%%%\\nmodel_conv = models.resnet50(pretrained=True).to(device)\\n\\n# modify the last fc,transfer to few layers(2048*1000＞＞＞２０４８＊２)\\nmodel_conv.fc = nn.Sequential(\\n               nn.Linear(2048, 128),\\n               nn.ReLU(inplace=True),\\n               nn.Linear(128, 2)).to(device) \\n\\ncriterion = nn.CrossEntropyLoss()\\n\\noptimizer_conv = optim.Adam(model_conv.fc.parameters())\\n\\nmodel_conv = train_model(model_conv, criterion, optimizer_conv ,num_epochs=NUM)\\n'"
            ],
            "application/vnd.google.colaboratory.intrinsic+json": {
              "type": "string"
            }
          },
          "metadata": {},
          "execution_count": 77
        }
      ],
      "source": [
        "'''\n",
        "# do \"Finetuning \" , using ( pretrained ResNet50 )\n",
        "\n",
        "### resnet50 MODEL %%%%%%%%%%%%%%%%%%%%%%%%%%%%%%%%%%%%%%%%%%%%%%%%%%%%%%%%%%%\n",
        "model_conv = models.resnet50(pretrained=True).to(device)\n",
        "\n",
        "# modify the last fc,transfer to few layers(2048*1000＞＞＞２０４８＊２)\n",
        "model_conv.fc = nn.Sequential(\n",
        "               nn.Linear(2048, 128),\n",
        "               nn.ReLU(inplace=True),\n",
        "               nn.Linear(128, 2)).to(device) \n",
        "\n",
        "criterion = nn.CrossEntropyLoss()\n",
        "\n",
        "optimizer_conv = optim.Adam(model_conv.fc.parameters())\n",
        "\n",
        "model_conv = train_model(model_conv, criterion, optimizer_conv ,num_epochs=NUM)\n",
        "'''"
      ]
    },
    {
      "cell_type": "markdown",
      "source": [
        "#CASE 2 : USE **ResNet50** also adjust lr\n"
      ],
      "metadata": {
        "id": "5ItmnvJYzxvZ"
      }
    },
    {
      "cell_type": "code",
      "source": [
        "# do \"Finetuning \" , using ( pretrained ResNet50 )\n",
        "\n",
        "### resnet50 MODEL %%%%%%%%%%%%%%%%%%%%%%%%%%%%%%%%%%%%%%%%%%%%%%%%%%%%%%%%%%%\n",
        "model_conv = models.resnet50(pretrained=True).to(device)\n",
        "\n",
        "# modify the last fc,transfer to few layers(2048*1000＞＞＞２０４８＊２)\n",
        "model_conv.fc = nn.Sequential(\n",
        "               nn.Linear(2048, 128),\n",
        "               nn.ReLU(inplace=True),\n",
        "               nn.Linear(128, 2)).to(device) \n",
        "\n",
        "criterion = nn.CrossEntropyLoss()\n",
        "\n",
        "initial_lr = 100\n",
        "optimizer_conv = optim.Adam(model_conv.fc.parameters(), lr = initial_lr)\n",
        "\n",
        "scheduler_1 = StepLR(optimizer_conv, step_size=5, gamma=0.1) # renew para. every 3 batchs,gamma use default:10 times decay/per regulation\n",
        "\n",
        "model_conv = train_model(model_conv, criterion, optimizer_conv, scheduler_1 ,num_epochs=NUM)\n",
        "\n",
        "print(\"initial lr：\", optimizer_conv.defaults['lr'])\n",
        " \n",
        "for epoch in range(1, NUM):\n",
        "\n",
        "    print(\"%dth epoch lr：%f\" % (epoch, optimizer_conv.param_groups[0]['lr']))\n",
        "    scheduler_1.step()"
      ],
      "metadata": {
        "id": "HlUmZTPwzvnZ"
      },
      "execution_count": null,
      "outputs": []
    },
    {
      "cell_type": "markdown",
      "metadata": {
        "id": "TQSHmLcdmgpf"
      },
      "source": [
        "#**Case 3:**\n",
        "Load a non-pretrained model and reset final fully connected layer ** "
      ]
    },
    {
      "cell_type": "markdown",
      "metadata": {
        "id": "iOFUmX_q9oDn"
      },
      "source": [
        "#CASE 3 : USE **alexnet**"
      ]
    },
    {
      "cell_type": "code",
      "execution_count": null,
      "metadata": {
        "id": "4TwcHLSKmi03"
      },
      "outputs": [],
      "source": [
        "'''\n",
        "## Alexnet\n",
        "# change ResNet50\n",
        " \n",
        "#model_ft = models.alexnet(pretrained=True) # model_ft : finetune model\n",
        "# change models.alexnet(pretrained=false) >>> use default() ------ train Alexnet from scratch!!\n",
        "model_ft = models.alexnet()\n",
        "model_ft.classifier = nn.Sequential(*[model_ft.classifier[i] for i in range(6)])  # remove the last layer (4096x1000)\n",
        "addition_fc = nn.Linear(4096, 2) # the layer to be stacked\n",
        "model_ft.classifier = nn.Sequential(model_ft.classifier,addition_fc)\n",
        "#model_ft = nn.Sequential(model_ft,addition_fc)\n",
        "print(model_ft)\n",
        "##\n",
        "\n",
        "model_ft = model_ft.to(device)\n",
        "\n",
        "criterion = nn.CrossEntropyLoss()\n",
        "#criterion = FocalLoss()\n",
        "\n",
        "# Observe that all parameters are being optimized\n",
        "optimizer_ft = optim.SGD(model_ft.parameters(), lr=0.001, momentum=0.9, weight_decay=0.0)\n",
        "\n",
        "# step size could be\n",
        "exp_lr_scheduler = lr_scheduler.StepLR(optimizer_ft, step_size=5, gamma=0.1)\n",
        "\n",
        "# train the model using a fined-tuned way\n",
        "model_ft = train_model(model_ft, criterion, optimizer_ft, exp_lr_scheduler, num_epochs=NUM)\n",
        "'''"
      ]
    },
    {
      "cell_type": "markdown",
      "metadata": {
        "id": "EIX9ot2o_7dQ"
      },
      "source": [
        "#CASE 3 : USE **ResNet50**"
      ]
    },
    {
      "cell_type": "code",
      "execution_count": null,
      "metadata": {
        "id": "hbLXe1qRJmvz"
      },
      "outputs": [],
      "source": [
        "'''\n",
        "## do \"train resnet50 from scratch!!\" , using ( ResNet50 )\n",
        " \n",
        "model_conv = models.resnet50().to(device)\n",
        "# change models.resnet50(pretrained=false) >>> use default() ------ train resnet50 from scratch!!\n",
        "\n",
        "# modify the last fc,transfer to few layers(2048*1000＞＞＞２０４８＊２)\n",
        "model_conv.fc = nn.Sequential(\n",
        "               nn.Linear(2048, 128),\n",
        "               nn.ReLU(inplace=True),\n",
        "               nn.Linear(128, 2)).to(device) \n",
        "\n",
        "criterion = nn.CrossEntropyLoss()\n",
        "optimizer_conv = optim.Adam(model_conv.fc.parameters())\n",
        "\n",
        "model_conv = train_model(model_conv, criterion, optimizer_conv, num_epochs=NUM)\n",
        "'''"
      ]
    },
    {
      "cell_type": "code",
      "execution_count": null,
      "metadata": {
        "id": "-U2PDA154baf"
      },
      "outputs": [],
      "source": [
        "# save data \n",
        "#np.savez_compressed('savez_compressed.npz', my_arr1=epoch_train_loss_his, my_arr2=epoch_val_loss_his, my_arr3=epoch_train_acc_his, my_arr4=epoch_val_acc_his )\n",
        "\n",
        "# load data\n",
        "#npz_file = np.load('savez_compressed.npz')\n",
        "#new_arr1, new_arr2, new_arr3, new_arr4  = npz_file['my_arr1'], npz_file['my_arr2'], npz_file['my_arr3'], npz_file['my_arr4']"
      ]
    },
    {
      "cell_type": "code",
      "execution_count": null,
      "metadata": {
        "id": "bu_HzSbUu0fM"
      },
      "outputs": [],
      "source": [
        "# print  history\n",
        "# epoch_train_loss_his & epoch_val_loss_his & epoch_train_acc_his & epoch_val_acc_his\n",
        "\n",
        "plt.figure()\n",
        "\n",
        "x_values=list(range(num_epochs))\n",
        "\n",
        "# fig.1\n",
        "plt.subplot(2, 2, 1)\n",
        "plt.plot(x_values,epoch_train_loss_his)\n",
        "plt.legend(['train Loss'])\n",
        "plt.xlabel('epoch')\n",
        "plt.ylabel('Loss')\n",
        "plt.ylim(0,2)\n",
        "\n",
        "# fig.2\n",
        "plt.subplot(2, 2, 2)\n",
        "plt.plot(x_values,epoch_val_loss_his)\n",
        "plt.legend(['val. Loss'])\n",
        "plt.xlabel('epoch')\n",
        "#plt.ylabel('Loss')\n",
        "plt.ylim(0,2)\n",
        "\n",
        "# fig.3\n",
        "plt.subplot(2, 2, 3)\n",
        "plt.plot(x_values,epoch_train_acc_his)\n",
        "plt.legend(['train acc.'])\n",
        "plt.xlabel('epoch')\n",
        "plt.ylabel('acc.')\n",
        "plt.ylim(0.4,1)\n",
        "\n",
        "# fig.4\n",
        "plt.subplot(2, 2, 4)\n",
        "plt.plot(x_values,epoch_val_acc_his)\n",
        "plt.legend(['val acc.'])\n",
        "plt.xlabel('epoch')\n",
        "#plt.ylabel('acc.')\n",
        "plt.ylim(0.4 ,1)\n",
        "\n",
        "#x_major_locator=MultipleLocator(1)\n",
        "#把x轴的刻度间隔设置为1，并存在变量里\n",
        "#y_major_locator=MultipleLocator(0.5)\n",
        "\n",
        "#ax=plt.gca()\n",
        "#ax为两条坐标轴的实例\n",
        "#ax.xaxis.set_major_locator(x_major_locator)\n",
        "#把x轴的主刻度设置为1的倍数\n",
        "#ax.yaxis.set_major_locator(y_major_locator)\n",
        "\n",
        "# part of code modified from: https://blog.csdn.net/weixin_44520259/article/details/89917026\n",
        "\n",
        "plt.show()\n",
        "\n",
        "print(epoch_val_acc_his) "
      ]
    },
    {
      "cell_type": "markdown",
      "metadata": {
        "id": "_OU2kGYPmUGz"
      },
      "source": [
        "**Visualizing the model predictions:**\n",
        "Generic function to display predictions for a few images"
      ]
    },
    {
      "cell_type": "code",
      "execution_count": null,
      "metadata": {
        "id": "G3u5SQux51pH"
      },
      "outputs": [],
      "source": [
        "def visualize_model(model, num_images=6):\n",
        "    was_training = model.training\n",
        "    model.eval()\n",
        "    images_so_far = 0\n",
        "    fig = plt.figure()\n",
        "\n",
        "    with torch.no_grad():\n",
        "        for i, (inputs, labels) in enumerate(dataloaders['val']):\n",
        "            inputs = inputs.to(device)\n",
        "            labels = labels.to(device)\n",
        "\n",
        "            outputs = model(inputs)\n",
        "            _, preds = torch.max(outputs, 1)\n",
        "\n",
        "            for j in range(inputs.size()[0]):\n",
        "                images_so_far += 1\n",
        "                ax = plt.subplot(num_images//2, 2, images_so_far)\n",
        "                ax.axis('off')\n",
        "                ax.set_title('predicted: {}'.format(class_names[preds[j]]))\n",
        "                imshow(inputs.cpu().data[j])\n",
        "\n",
        "                if images_so_far == num_images:\n",
        "                    model.train(mode=was_training)\n",
        "                    return\n",
        "        model.train(mode=was_training)\n",
        "        \n",
        "#visualize_model(model_ft)\n",
        "visualize_model(model_conv)"
      ]
    }
  ],
  "metadata": {
    "accelerator": "GPU",
    "colab": {
      "provenance": [],
      "include_colab_link": true
    },
    "gpuClass": "standard",
    "kernelspec": {
      "display_name": "Python 3",
      "name": "python3"
    }
  },
  "nbformat": 4,
  "nbformat_minor": 0
}